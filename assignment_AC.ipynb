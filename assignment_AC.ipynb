{
  "nbformat": 4,
  "nbformat_minor": 0,
  "metadata": {
    "kernelspec": {
      "display_name": "Python 3",
      "language": "python",
      "name": "python3"
    },
    "language_info": {
      "codemirror_mode": {
        "name": "ipython",
        "version": 3
      },
      "file_extension": ".py",
      "mimetype": "text/x-python",
      "name": "python",
      "nbconvert_exporter": "python",
      "pygments_lexer": "ipython3",
      "version": "3.7.3"
    },
    "colab": {
      "name": "assignment_AC.ipynb",
      "provenance": [],
      "include_colab_link": true
    }
  },
  "cells": [
    {
      "cell_type": "markdown",
      "metadata": {
        "id": "view-in-github",
        "colab_type": "text"
      },
      "source": [
        "<a href=\"https://colab.research.google.com/github/kimhoneybee/NLP/blob/main/assignment_AC.ipynb\" target=\"_parent\"><img src=\"https://colab.research.google.com/assets/colab-badge.svg\" alt=\"Open In Colab\"/></a>"
      ]
    },
    {
      "cell_type": "markdown",
      "metadata": {
        "id": "1OOrwmC4TJhB"
      },
      "source": [
        "# NLP Assignment 1\n",
        "Created by Prof. [Mohammad M. Ghassemi](https://ghassemi.xyz)\n",
        "\n",
        "Submitted by: <span style=\"color:red\"> INSERT YOUR NAME HERE </span>\n",
        "\n",
        "In collaboration with: <span style=\"color:red\"> INSERT YOUR HOMEWORK PARTNER'S GRADE HERE </span>\n",
        "\n",
        "\n",
        "<hr> "
      ]
    },
    {
      "cell_type": "markdown",
      "metadata": {
        "id": "E1l152bnTJhD"
      },
      "source": [
        "## Assignment Goals\n",
        "The goal of this assignment is to familiarize yourself with:\n",
        "1. Regular expressions, \n",
        "2. Text normalization, \n",
        "3. Edit distance, \n",
        "4. N-gram language models and smoothing \n",
        "\n",
        "This assignment combines tutorial components, with learning exercises that you must complete and submit. The learning exercise sections are clearly demarcated within the assignments.\n",
        "\n",
        "## Assumptions\n",
        "BEFORE YOU START\n",
        "\n",
        "1. PULL THE LATEST VERSION OF THE `course-materials` REPOSITORY, AND COPY `homework/HW1/` INTO THE CORRESPONDING DIRECTORY. \n",
        "2. CREATE AND ATTACHED TO A VIRTUAL ENVIRONMENT, AND INSTALLED THE REQUIREMENTS IN `requirements.txt`\n",
        "\n"
      ]
    },
    {
      "cell_type": "code",
      "metadata": {
        "id": "bu7o7rD0TJhE"
      },
      "source": [
        "from materials.code import class_utils"
      ],
      "execution_count": null,
      "outputs": []
    },
    {
      "cell_type": "code",
      "metadata": {
        "id": "LefkV0X7Tuzl"
      },
      "source": [
        "def CountFrequency(my_list): \n",
        "  \n",
        "    # Creating an empty dictionary  \n",
        "    freq = {} \n",
        "    for item in my_list: \n",
        "        if (item in freq): \n",
        "            freq[item] += 1\n",
        "        else: \n",
        "            freq[item] = 1\n",
        "    return freq"
      ],
      "execution_count": 3,
      "outputs": []
    },
    {
      "cell_type": "code",
      "metadata": {
        "id": "x2E8ADaGT9eH"
      },
      "source": [
        "!pip install jupyterlab\n",
        "!pip install requests\n",
        "!pip install matplotlib\n",
        "!pip install nltk\n",
        "!pip install textdistance\n",
        "!pip install textdistance[extras]\n",
        "!pip install numpy"
      ],
      "execution_count": null,
      "outputs": []
    },
    {
      "cell_type": "code",
      "metadata": {
        "colab": {
          "base_uri": "https://localhost:8080/"
        },
        "id": "VGBsrio4TpOK",
        "outputId": "4cd1b05f-a7fa-4bc1-ff01-73d4c5b69f61"
      },
      "source": [
        "import requests\n",
        "import nltk\n",
        "from nltk.util import ngrams\n",
        "import requests\n",
        "import time\n",
        "import json\n",
        "import math\n",
        "\n",
        "# Importing the `punkt` data, used by the NLTK tokenizer\n",
        "import ssl\n",
        "try:\n",
        "    _create_unverified_https_context = ssl._create_unverified_context\n",
        "except AttributeError:\n",
        "    pass\n",
        "else:\n",
        "    ssl._create_default_https_context = _create_unverified_https_context\n",
        "\n",
        "nltk.download('punkt')\n",
        "\n",
        "\n",
        "# An ngram extractor \n",
        "def extract_word_ngrams(data, num):\n",
        "    n_grams = ngrams(nltk.word_tokenize(data), num)\n",
        "    return [ ' '.join(grams) for grams in n_grams]\n",
        "\n",
        "\n",
        "# Counts the frequency of token occurences in some text.\n",
        "def CountFrequency(my_list): \n",
        "  \n",
        "    # Creating an empty dictionary  \n",
        "    freq = {} \n",
        "    for item in my_list: \n",
        "        if (item in freq): \n",
        "            freq[item] += 1\n",
        "        else: \n",
        "            freq[item] = 1\n",
        "    return freq\n",
        "\n",
        "\n",
        "\n",
        "\n",
        "def basicLanguageModel(data, gram_size = 1):\n",
        "    \n",
        "    grams  = extract_word_ngrams(data,gram_size) \n",
        "    counts = {}\n",
        "        \n",
        "    \n",
        "    # -----------------------------------------------\n",
        "    # Count the next gram, given the current gram:\n",
        "    # -----------------------------------------------\n",
        "    possible_nextgrams = len(list(set(grams)))\n",
        "    for i in range(len(grams)-1):\n",
        "        if grams[i] not in counts:\n",
        "            counts[grams[i]]                     = {}\n",
        "            counts[grams[i]]['___NUMBLANKGRAMS___'] = possible_nextgrams - 1\n",
        "            counts[grams[i]][grams[i+1]] = 2   \n",
        "        else:\n",
        "            if grams[i+1] not in counts[grams[i]]:\n",
        "                counts[grams[i]][grams[i+1]] = 1\n",
        "                counts[grams[i]]['___NUMBLANKGRAMS___'] -= 1\n",
        "            else:\n",
        "                counts[grams[i]][grams[i+1]] += 1\n",
        "\n",
        "    if grams[len(grams)-1] not in counts:\n",
        "        counts[grams[len(grams)-1]] = {} \n",
        "\n",
        "    # -----------------------------------------------\n",
        "    # convert the counts to probabilites and Laplacian Smooth\n",
        "    # -----------------------------------------------\n",
        "    probs = counts\n",
        "    for key, value in counts.items():\n",
        "        denominator = 0\n",
        "        total_prob  = 0\n",
        "        for key2, value2 in counts[key].items():      \n",
        "            denominator += value2\n",
        "\n",
        "        for key2, value2 in counts[key].items():\n",
        "            if key2 != '___NUMBLANKGRAMS___':\n",
        "                probs[key][key2] = value2 / denominator\n",
        "                total_prob      += probs[key][key2]\n",
        "        \n",
        "        if '___NUMBLANKGRAMS___' not in counts[key]:\n",
        "            counts[key]['___NUMBLANKGRAMS___'] = possible_nextgrams\n",
        "            counts[key]['___BLANKUNITPROB___'] = 1/(possible_nextgrams)\n",
        "        \n",
        "        \n",
        "        elif counts[key]['___NUMBLANKGRAMS___'] != 0:\n",
        "            probs[key]['___BLANKUNITPROB___'] = (1-total_prob)/counts[key]['___NUMBLANKGRAMS___']\n",
        "        else:\n",
        "            probs[key]['___BLANKUNITPROB___'] = 0\n",
        "      \n",
        "    # -----------------------------------------------\n",
        "    # Obtain the prior probabilities for each gram:\n",
        "    # -----------------------------------------------\n",
        "    gram_counts = CountFrequency(grams)\n",
        "    count_total = sum(gram_counts.values())\n",
        "    for key, value in gram_counts.items():\n",
        "        probs[key]['___PRIOR___'] = value/count_total\n",
        "        \n",
        "    probs['___TOTALTOKENS___']  = len(grams)\n",
        "    probs['___UNIQUETOKENS___'] = len(set(grams))\n",
        "    return probs\n",
        "\n",
        "\n",
        "# Generate a backoff model:\n",
        "def trainBackoffModel(corpora, max_gram_size):\n",
        "    langauge_model = []\n",
        "    for gram_size in range(1,max_gram_size+1):\n",
        "        langauge_model.append(basicLanguageModel(corpora, gram_size = gram_size))\n",
        "    return langauge_model\n",
        "\n",
        "\n",
        "# Returns the log probability of some new text, given the language model\n",
        "def evaluateBackoffLangaugeModel(data, model, prior = True, verbose = False):\n",
        "\n",
        "    # Begin by extracting a set of unigrams \n",
        "    segments      = extract_word_ngrams(data, 1)\n",
        "    max_gram_size = min([len(segments), len(model)])\n",
        "\n",
        "    segment_start = 0\n",
        "    initial       = True\n",
        "    log_prob      = 0\n",
        "    complete      = False\n",
        "    \n",
        "    # Ideally, we would like to use the entire given segment, but if we can't find it\n",
        "    # In the dictionary, we will back out, and check if we can find a match for a smaller\n",
        "    # n-gram.\n",
        "    while segment_start < (len(segments)-max_gram_size+1):\n",
        "        \n",
        "        found_match = False\n",
        "        for i in range(max_gram_size):\n",
        "\n",
        "            segment_end   = segment_start + (max_gram_size)\n",
        "            given_segment = segments[segment_start+i:segment_end]\n",
        "            given_gram    = ' '.join(given_segment)\n",
        "            model_index   = max_gram_size-i-1\n",
        "            if verbose == True:\n",
        "                print('GIVEN GRAM:\"', given_gram, '\"')\n",
        "\n",
        "            \n",
        "            # We will check if this n-gram exists in the model\n",
        "            if given_gram in model[model_index]:\n",
        "                next_segment = segments[segment_start+i+1:segment_end+1]\n",
        "                next_gram    = ' '.join(next_segment)\n",
        "                if verbose == True:\n",
        "                    print('NEXT GRAM:\"', next_gram, '\"')\n",
        "\n",
        "                if next_gram in model[model_index][given_gram]:\n",
        "                    \n",
        "                    # Apply the prior probability\n",
        "                    if initial == True and prior == True:\n",
        "                        log_prob += math.log(model[model_index][given_gram]['___PRIOR___'])\n",
        "                        initial  = False\n",
        "                \n",
        "                        if verbose == True:\n",
        "                            print('log[p(' + given_gram + ')] = ' + str(log_prob))\n",
        "                    \n",
        "                    # Apply the conditional probability\n",
        "                    if verbose == True:\n",
        "                        print('log[p(' + next_gram + '|' + given_gram + ')] = ' + str(math.log(model[model_index][given_gram][next_gram])))\n",
        "                        print('\\n')\n",
        "                        \n",
        "                    log_prob += math.log(model[model_index][given_gram][next_gram])\n",
        "                    found_match = True\n",
        "                    break\n",
        "                    \n",
        "                else:\n",
        "                    if verbose == True:\n",
        "                        print('BACKING OFF: can not find match in dictionary for next gram \"' + next_gram + '\"')\n",
        "                        print('\\n')      \n",
        "\n",
        "            else:\n",
        "                if verbose == True:\n",
        "                    print('BACKING OFF: can not find match in dictionary for given gram \"' + given_gram + '\"')\n",
        "                    print('\\n')\n",
        "        \n",
        "        # Laplacian Smoothing for next grams\n",
        "        if found_match == False:\n",
        "            if verbose == True:\n",
        "                print('SMOOTHING: No match found, applying laplacian probability')\n",
        "            \n",
        "            # If the next-gram is missing:\n",
        "            if given_gram in model[model_index]: \n",
        "                log_prob += math.log(model[model_index][given_gram]['___BLANKUNITPROB___'])\n",
        "                if verbose == True:\n",
        "                    print('log[p(' + next_gram + '|' + given_gram + ')] = ' + str(math.log(model[model_index][given_gram]['___BLANKUNITPROB___'])))\n",
        "            \n",
        "            # If the given gram is missing:\n",
        "            else:\n",
        "                log_prob += math.log(1 / (model[model_index]['___TOTALTOKENS___'] + 1))\n",
        "                if verbose == True:\n",
        "                    print('log[p(' + given_gram + ')] = ' + str(math.log(1 / (model[model_index]['___TOTALTOKENS___'] + 1))))\n",
        "            \n",
        "        segment_start+= 1\n",
        "        \n",
        "    return(log_prob)"
      ],
      "execution_count": 5,
      "outputs": [
        {
          "output_type": "stream",
          "name": "stdout",
          "text": [
            "[nltk_data] Downloading package punkt to /root/nltk_data...\n",
            "[nltk_data]   Unzipping tokenizers/punkt.zip.\n"
          ]
        }
      ]
    },
    {
      "cell_type": "markdown",
      "metadata": {
        "id": "KAGzMg9TTJhF"
      },
      "source": [
        "<hr>\n",
        "\n",
        "# Part 0: Collecting Data\n"
      ]
    },
    {
      "cell_type": "markdown",
      "metadata": {
        "id": "BZsbUVwDTJhG"
      },
      "source": [
        "Before we can perform any text analysis, we will need to collect some text to apply our analysis to! One excellent resource for free text data is [Project Gutenburg](https://www.gutenberg.org/) (PG); PG contains ~60,000 free eBooks in a variety of formats including the very easy to use `.txt` format. Let's start by pulling [Bertrand Russell's](https://plato.stanford.edu/entries/russell/) book on [The Problems of Philosophy](http://www.gutenberg.org/cache/epub/5827/pg5827.txt) directly from the internet to our machines using [Python's requests library](https://requests.readthedocs.io/en/master/). The requests library is a powerful tool for extracting text data from the internet. Given that most contemporary text data is on the web, it's a tool you should become familiar with:"
      ]
    },
    {
      "cell_type": "code",
      "metadata": {
        "id": "dzMzqZDkTJhH"
      },
      "source": [
        "import requests\n",
        "website = 'http://www.gutenberg.org/cache/epub/5827/pg5827.txt'\n",
        "site    = requests.get(website)"
      ],
      "execution_count": 6,
      "outputs": []
    },
    {
      "cell_type": "code",
      "metadata": {
        "colab": {
          "base_uri": "https://localhost:8080/"
        },
        "id": "qv_nZUpRTJhH",
        "outputId": "4c6a064e-7c76-4f37-df15-e76be76a84d4"
      },
      "source": [
        "print('\\n')\n",
        "print('--------------------------------------------------------')\n",
        "print('Server status code: ' + str(site.status_code))\n",
        "print('--------------------------------------------------------')\n",
        "print('Here is a 250 character sample of your text:')\n",
        "print('- - - - - - - - - - - - - - - - - - - - - - - - - - - - ')\n",
        "print(site.text[1500:1750])\n",
        "print('--------------------------------------------------------')\n",
        "print('\\n')"
      ],
      "execution_count": 7,
      "outputs": [
        {
          "output_type": "stream",
          "name": "stdout",
          "text": [
            "\n",
            "\n",
            "--------------------------------------------------------\n",
            "Server status code: 200\n",
            "--------------------------------------------------------\n",
            "Here is a 250 character sample of your text:\n",
            "- - - - - - - - - - - - - - - - - - - - - - - - - - - - \n",
            "wledge in the world which is so certain that no\r\n",
            "reasonable man could doubt it? This question, which at first sight might\r\n",
            "not seem difficult, is really one of the most difficult that can\r\n",
            "be asked. When we have realized the obstacles in the way of a\n",
            "--------------------------------------------------------\n",
            "\n",
            "\n"
          ]
        }
      ]
    },
    {
      "cell_type": "markdown",
      "metadata": {
        "id": "kQa1xaNbTJhJ"
      },
      "source": [
        "The requests object returned a server status code of `200`, and placed the text we requested in `r.text`. The status code is the server's way of telling us `OK` but note that servers can also refuse to serve us; If we request another resources that doesn't exist from Guttenburg for example, it will respond differently. Let's ask for a new book called `idontthinkyouhavethisbook.txt`"
      ]
    },
    {
      "cell_type": "code",
      "metadata": {
        "id": "H67Dk-ikTJhK"
      },
      "source": [
        "website = 'http://www.gutenberg.org/cache/epub/5827/idontthinkyouhavethisbook.txt'\n",
        "r = requests.get(website)"
      ],
      "execution_count": 8,
      "outputs": []
    },
    {
      "cell_type": "code",
      "metadata": {
        "colab": {
          "base_uri": "https://localhost:8080/"
        },
        "id": "S74_xcgTTJhL",
        "outputId": "447d23fc-9599-4e4a-ae95-b7ef9ba2da28"
      },
      "source": [
        "print('\\n')\n",
        "print('--------------------------------------------------------')\n",
        "print('Server status code: ' + str(r.status_code))\n",
        "print('--------------------------------------------------------')\n",
        "print('Here is a 250 character sample of your text:')\n",
        "print('- - - - - - - - - - - - - - - - - - - - - - - - - - - - ')\n",
        "print(r.text[1500:1750])\n",
        "print('--------------------------------------------------------')\n",
        "print('\\n')"
      ],
      "execution_count": 9,
      "outputs": [
        {
          "output_type": "stream",
          "name": "stdout",
          "text": [
            "\n",
            "\n",
            "--------------------------------------------------------\n",
            "Server status code: 404\n",
            "--------------------------------------------------------\n",
            "Here is a 250 character sample of your text:\n",
            "- - - - - - - - - - - - - - - - - - - - - - - - - - - - \n",
            "_logo\"> -->\n",
            "  <a id=\"main_logo\" href=\"/\" class=\"no-hover\">\n",
            "    <img src=\"/gutenberg/pg-logo-129x80.png\" alt=\"Project Gutenberg\" draggable=\"false\" />\n",
            "  </a>\n",
            "  <!--\t</div>-->\n",
            "  <div id=\"menu\">\n",
            "    <label for=\"tm\" id=\"toggle-menu\">Menu<span class=\"drop-\n",
            "--------------------------------------------------------\n",
            "\n",
            "\n"
          ]
        }
      ]
    },
    {
      "cell_type": "markdown",
      "metadata": {
        "id": "uUXXXY79TJhM"
      },
      "source": [
        "Now the server returned a `404` status code, which is it's way of telling us `Not Found`. Sure enough, the content that was returned in `r.text` is the error page of Project Guttenburg, not the book we requested. I point this out because when you collect your own data from the internet, especially large volumes of data, you will want to pay attention to those server status codes to make sure what you requested is what you obtained. To learn more about server codes, you can see this [this page](https://developer.mozilla.org/en-US/docs/Web/HTTP/Status)."
      ]
    },
    {
      "cell_type": "markdown",
      "metadata": {
        "id": "DvbNdFUhTJhN"
      },
      "source": [
        "<hr> \n",
        "\n",
        "# Part 1: Regular Expressions"
      ]
    },
    {
      "cell_type": "markdown",
      "metadata": {
        "id": "-sHo2X8ZTJhN"
      },
      "source": [
        "A regular expression is a compact programming language that is specialized for enhanced text search. We can import the `re` library, which comes standard with the Python programming language, to analyze the book we pulled from Project Guttenburg in part 0."
      ]
    },
    {
      "cell_type": "code",
      "metadata": {
        "id": "RMq5duwbTJhO"
      },
      "source": [
        "import re"
      ],
      "execution_count": 10,
      "outputs": []
    },
    {
      "cell_type": "code",
      "metadata": {
        "id": "FUnMSIxbTJhP"
      },
      "source": [
        "regular_expression = 'philosophy'\n",
        "text               = site.text\n",
        "results            = re.search(regular_expression,text)"
      ],
      "execution_count": 11,
      "outputs": []
    },
    {
      "cell_type": "code",
      "metadata": {
        "id": "Ndak4VsUTJhQ",
        "outputId": "724ef323-b075-44f2-ae1a-0ee783289177"
      },
      "source": [
        "print('\\n')\n",
        "print('--------------------------------------------------------')\n",
        "print('Results')\n",
        "print('--------------------------------------------------------')\n",
        "print('A match for the search query: \"' + results.group() + '\"\\nwas found at the following character span: ' + str(results.span()))\n",
        "print('--------------------------------------------------------')\n",
        "print('\\n')"
      ],
      "execution_count": null,
      "outputs": [
        {
          "name": "stdout",
          "output_type": "stream",
          "text": [
            "\n",
            "\n",
            "--------------------------------------------------------\n",
            "Results\n",
            "--------------------------------------------------------\n",
            "A match for the search query: \"philosophy\"\n",
            "was found at the following character span: (764, 774)\n",
            "--------------------------------------------------------\n",
            "\n",
            "\n"
          ]
        }
      ]
    },
    {
      "cell_type": "markdown",
      "metadata": {
        "id": "E19p7oeVTJhQ"
      },
      "source": [
        "The above example finds the first instance of the word `philosophy` in the book. For some purposes, we may want to capture *every instance* where the search term was mentioned in a text. We can accomplish that using the `re.finditer` function, and packaging our results in a neat list of dictionaries that contain the matching string and the location of the match:"
      ]
    },
    {
      "cell_type": "code",
      "metadata": {
        "id": "nOHZitJeTJhQ"
      },
      "source": [
        "# collect all the mentions of the search term\n",
        "regular_expression = 'philosophy'\n",
        "results            = [ {\"indicies\":m.span(), \"match\":m.group() } for m in re.finditer(regular_expression,text)];\n",
        "matches            = []; [matches.append(m['match']) for m in results];"
      ],
      "execution_count": 13,
      "outputs": []
    },
    {
      "cell_type": "code",
      "metadata": {
        "colab": {
          "base_uri": "https://localhost:8080/"
        },
        "id": "tLbHO5DeTJhR",
        "outputId": "872a4e64-705b-4660-8d51-440a8d7eabdd"
      },
      "source": [
        "print('\\n')\n",
        "print('--------------------------------------------------------')\n",
        "print('Results')\n",
        "print('--------------------------------------------------------')\n",
        "print('We found ' +  str(len(matches)) + ' matches...\\n')\n",
        "print(str(results))\n",
        "print('--------------------------------------------------------')\n",
        "print('\\n')"
      ],
      "execution_count": 14,
      "outputs": [
        {
          "output_type": "stream",
          "name": "stdout",
          "text": [
            "\n",
            "\n",
            "--------------------------------------------------------\n",
            "Results\n",
            "--------------------------------------------------------\n",
            "We found 72 matches...\n",
            "\n",
            "[{'indicies': (764, 774), 'match': 'philosophy'}, {'indicies': (1833, 1843), 'match': 'philosophy'}, {'indicies': (1849, 1859), 'match': 'philosophy'}, {'indicies': (5109, 5119), 'match': 'philosophy'}, {'indicies': (19891, 19901), 'match': 'philosophy'}, {'indicies': (21170, 21180), 'match': 'philosophy'}, {'indicies': (33483, 33493), 'match': 'philosophy'}, {'indicies': (33560, 33570), 'match': 'philosophy'}, {'indicies': (33849, 33859), 'match': 'philosophy'}, {'indicies': (50321, 50331), 'match': 'philosophy'}, {'indicies': (54760, 54770), 'match': 'philosophy'}, {'indicies': (103297, 103307), 'match': 'philosophy'}, {'indicies': (109118, 109128), 'match': 'philosophy'}, {'indicies': (122400, 122410), 'match': 'philosophy'}, {'indicies': (122529, 122539), 'match': 'philosophy'}, {'indicies': (125952, 125962), 'match': 'philosophy'}, {'indicies': (126061, 126071), 'match': 'philosophy'}, {'indicies': (130439, 130449), 'match': 'philosophy'}, {'indicies': (137039, 137049), 'match': 'philosophy'}, {'indicies': (137797, 137807), 'match': 'philosophy'}, {'indicies': (141982, 141992), 'match': 'philosophy'}, {'indicies': (142856, 142866), 'match': 'philosophy'}, {'indicies': (143182, 143192), 'match': 'philosophy'}, {'indicies': (187623, 187633), 'match': 'philosophy'}, {'indicies': (217060, 217070), 'match': 'philosophy'}, {'indicies': (217606, 217616), 'match': 'philosophy'}, {'indicies': (218230, 218240), 'match': 'philosophy'}, {'indicies': (218493, 218503), 'match': 'philosophy'}, {'indicies': (231308, 231318), 'match': 'philosophy'}, {'indicies': (231368, 231378), 'match': 'philosophy'}, {'indicies': (231474, 231484), 'match': 'philosophy'}, {'indicies': (232593, 232603), 'match': 'philosophy'}, {'indicies': (233131, 233141), 'match': 'philosophy'}, {'indicies': (233425, 233435), 'match': 'philosophy'}, {'indicies': (233545, 233555), 'match': 'philosophy'}, {'indicies': (233816, 233826), 'match': 'philosophy'}, {'indicies': (234323, 234333), 'match': 'philosophy'}, {'indicies': (234555, 234565), 'match': 'philosophy'}, {'indicies': (235193, 235203), 'match': 'philosophy'}, {'indicies': (235369, 235379), 'match': 'philosophy'}, {'indicies': (235447, 235457), 'match': 'philosophy'}, {'indicies': (235666, 235676), 'match': 'philosophy'}, {'indicies': (235850, 235860), 'match': 'philosophy'}, {'indicies': (235992, 236002), 'match': 'philosophy'}, {'indicies': (236350, 236360), 'match': 'philosophy'}, {'indicies': (236378, 236388), 'match': 'philosophy'}, {'indicies': (236439, 236449), 'match': 'philosophy'}, {'indicies': (236606, 236616), 'match': 'philosophy'}, {'indicies': (236725, 236735), 'match': 'philosophy'}, {'indicies': (237387, 237397), 'match': 'philosophy'}, {'indicies': (237505, 237515), 'match': 'philosophy'}, {'indicies': (237868, 237878), 'match': 'philosophy'}, {'indicies': (238560, 238570), 'match': 'philosophy'}, {'indicies': (238691, 238701), 'match': 'philosophy'}, {'indicies': (238775, 238785), 'match': 'philosophy'}, {'indicies': (238849, 238859), 'match': 'philosophy'}, {'indicies': (238890, 238900), 'match': 'philosophy'}, {'indicies': (238988, 238998), 'match': 'philosophy'}, {'indicies': (239235, 239245), 'match': 'philosophy'}, {'indicies': (239324, 239334), 'match': 'philosophy'}, {'indicies': (239976, 239986), 'match': 'philosophy'}, {'indicies': (240137, 240147), 'match': 'philosophy'}, {'indicies': (240278, 240288), 'match': 'philosophy'}, {'indicies': (240616, 240626), 'match': 'philosophy'}, {'indicies': (241278, 241288), 'match': 'philosophy'}, {'indicies': (241368, 241378), 'match': 'philosophy'}, {'indicies': (241511, 241521), 'match': 'philosophy'}, {'indicies': (241613, 241623), 'match': 'philosophy'}, {'indicies': (242858, 242868), 'match': 'philosophy'}, {'indicies': (249062, 249072), 'match': 'philosophy'}, {'indicies': (249535, 249545), 'match': 'philosophy'}, {'indicies': (249777, 249787), 'match': 'philosophy'}]\n",
            "--------------------------------------------------------\n",
            "\n",
            "\n"
          ]
        }
      ]
    },
    {
      "cell_type": "markdown",
      "metadata": {
        "id": "vPltHJFQTJhR"
      },
      "source": [
        "We found `72` matches for the search term. That seems a bit low for a book with the word philosophy in it's name! Let's update our regular expression so that it's not sensitive to capitalization of the letter `p`."
      ]
    },
    {
      "cell_type": "code",
      "metadata": {
        "id": "3KO6kT2gTJhR"
      },
      "source": [
        "# collect all the mentions of the search term\n",
        "regular_expression = '(p|P)hilosophy'\n",
        "results            = [ {\"indicies\":m.span(), \"match\":m.group() } for m in re.finditer(regular_expression,text)];\n",
        "matches            = []; [matches.append(m['match']) for m in results];"
      ],
      "execution_count": 15,
      "outputs": []
    },
    {
      "cell_type": "code",
      "metadata": {
        "id": "f_NTubWwTJhS",
        "outputId": "bd227949-3461-459f-bb7f-3ec6ad550dc6"
      },
      "source": [
        "print('\\n')\n",
        "print('--------------------------------------------------------')\n",
        "print('Results')\n",
        "print('--------------------------------------------------------')\n",
        "print('We found ' +  str(len(results)) + ' matches...\\n')\n",
        "print(str(matches))\n",
        "print('--------------------------------------------------------')\n",
        "print('\\n')"
      ],
      "execution_count": null,
      "outputs": [
        {
          "name": "stdout",
          "output_type": "stream",
          "text": [
            "\n",
            "\n",
            "--------------------------------------------------------\n",
            "Results\n",
            "--------------------------------------------------------\n",
            "We found 81 matches...\n",
            "\n",
            "['Philosophy', 'Philosophy', 'philosophy', 'philosophy', 'philosophy', 'philosophy', 'Philosophy', 'philosophy', 'philosophy', 'Philosophy', 'philosophy', 'philosophy', 'philosophy', 'philosophy', 'philosophy', 'philosophy', 'philosophy', 'philosophy', 'philosophy', 'philosophy', 'philosophy', 'philosophy', 'philosophy', 'philosophy', 'philosophy', 'philosophy', 'philosophy', 'philosophy', 'philosophy', 'philosophy', 'philosophy', 'philosophy', 'philosophy', 'philosophy', 'philosophy', 'philosophy', 'philosophy', 'philosophy', 'philosophy', 'philosophy', 'philosophy', 'philosophy', 'Philosophy', 'philosophy', 'philosophy', 'philosophy', 'philosophy', 'philosophy', 'philosophy', 'philosophy', 'philosophy', 'philosophy', 'philosophy', 'philosophy', 'philosophy', 'philosophy', 'Philosophy', 'philosophy', 'philosophy', 'philosophy', 'philosophy', 'philosophy', 'philosophy', 'philosophy', 'philosophy', 'philosophy', 'philosophy', 'philosophy', 'philosophy', 'philosophy', 'philosophy', 'philosophy', 'philosophy', 'philosophy', 'Philosophy', 'philosophy', 'philosophy', 'Philosophy', 'philosophy', 'philosophy', 'Philosophy']\n",
            "--------------------------------------------------------\n",
            "\n",
            "\n"
          ]
        }
      ]
    },
    {
      "cell_type": "markdown",
      "metadata": {
        "id": "OTyj3nVRTJhS"
      },
      "source": [
        "We found `81` matches; that is not much better than before. Let's make the search even more general by seeking out terms that start with the word `philo`, followed by an arbitrary number of [a-z] characters thereafter."
      ]
    },
    {
      "cell_type": "code",
      "metadata": {
        "id": "VmbMrk_ZTJhS"
      },
      "source": [
        "regular_expression = '(P|p)hilo[a-z]+'\n",
        "results            = [ {\"indicies\":m.span(), \"match\":m.group() } for m in re.finditer(regular_expression,text)];\n",
        "matches            = []; [matches.append(m['match']) for m in results];"
      ],
      "execution_count": null,
      "outputs": []
    },
    {
      "cell_type": "code",
      "metadata": {
        "id": "vnUevzjoTJhT",
        "outputId": "35ab70f8-b332-4bd0-a072-a01c191d9ec4"
      },
      "source": [
        "print('\\n')\n",
        "print('--------------------------------------------------------')\n",
        "print('Results')\n",
        "print('--------------------------------------------------------')\n",
        "print('We found ' +  str(len(matches)) + ' matches...\\n')\n",
        "print(str(matches))\n",
        "print('--------------------------------------------------------')\n",
        "print('We found ' +  str(len(set(matches))) + ' distinct terms...\\n')\n",
        "print(class_utils.CountFrequency(matches))\n",
        "print('--------------------------------------------------------')\n",
        "print('\\n')"
      ],
      "execution_count": null,
      "outputs": [
        {
          "name": "stdout",
          "output_type": "stream",
          "text": [
            "\n",
            "\n",
            "--------------------------------------------------------\n",
            "Results\n",
            "--------------------------------------------------------\n",
            "We found 154 matches...\n",
            "\n",
            "['Philosophy', 'Philosophy', 'philosophy', 'philosophers', 'philosophy', 'philosophy', 'philosophy', 'philosopher', 'philosopher', 'philosopher', 'Philonous', 'Philonous', 'philosophers', 'philosophers', 'philosophers', 'philosophers', 'philosophers', 'philosophers', 'Philosophy', 'philosophy', 'philosophy', 'philosopher', 'philosophical', 'Philosophy', 'philosophy', 'philosophers', 'philosophy', 'philosophy', 'philosophical', 'philosopher', 'philosophical', 'philosophers', 'philosophers', 'philosophers', 'philosophers', 'philosophy', 'philosophical', 'philosopher', 'philosophy', 'philosopher', 'philosophy', 'philosopher', 'philosophy', 'philosophers', 'philosophers', 'philosophers', 'philosophers', 'philosopher', 'philosophers', 'philosophy', 'philosophy', 'philosophical', 'philosophers', 'philosophy', 'philosophy', 'philosophers', 'philosophy', 'philosophers', 'philosophers', 'philosophy', 'philosophy', 'philosophy', 'philosophy', 'philosophers', 'philosophy', 'philosophers', 'philosophies', 'philosophers', 'philosophical', 'philosopher', 'philosophers', 'philosophers', 'philosophers', 'philosophy', 'philosophical', 'philosophy', 'philosophers', 'philosophers', 'philosophy', 'philosophy', 'philosophy', 'philosophers', 'philosophers', 'philosophers', 'philosophers', 'Philosophical', 'philosophy', 'philosophy', 'philosophy', 'philosophers', 'philosophy', 'philosophy', 'philosophy', 'philosophy', 'philosophy', 'philosophical', 'philosophy', 'philosophy', 'Philosophy', 'philosophy', 'philosophy', 'philosophy', 'philosophy', 'philosophy', 'philosophy', 'philosophy', 'philosophy', 'philosophy', 'philosophy', 'philosophy', 'philosophy', 'philosophy', 'Philosophy', 'philosophy', 'philosopher', 'philosophy', 'philosophy', 'philosophy', 'philosophy', 'philosophy', 'philosophy', 'philosophy', 'philosophy', 'philosophy', 'philosophers', 'philosophy', 'philosophy', 'philosophers', 'philosophy', 'philosophical', 'philosophy', 'philosophy', 'philosophy', 'philosophy', 'philosophize', 'Philosophy', 'philosophy', 'philosophic', 'philosophic', 'Philosophic', 'Philosophic', 'philosophic', 'philosophies', 'philosophical', 'philosophic', 'philosophic', 'philosophic', 'philosophy', 'Philosophy', 'philosophy', 'philosophy', 'philosophers', 'Philonous', 'Philosophy']\n",
            "--------------------------------------------------------\n",
            "We found 11 distinct terms...\n",
            "\n",
            "{'Philosophy': 9, 'philosophy': 72, 'philosophers': 37, 'philosopher': 11, 'Philonous': 3, 'philosophical': 10, 'philosophies': 2, 'Philosophical': 1, 'philosophize': 1, 'philosophic': 6, 'Philosophic': 2}\n",
            "--------------------------------------------------------\n",
            "\n",
            "\n"
          ]
        }
      ]
    },
    {
      "cell_type": "markdown",
      "metadata": {
        "id": "R25kLChJTJhT"
      },
      "source": [
        "That looks better! But now we have a new problem. It seems that an inconveniently named philosopher, `Philonous`, has made his way into our results. Let's modify our regular expression to use a `negative lookahead` `(?!nous)` to remove him."
      ]
    },
    {
      "cell_type": "code",
      "metadata": {
        "id": "KO8bh3xbTJhU"
      },
      "source": [
        "regular_expression = '(P|p)hilo(?!nous)[a-z]+'\n",
        "results            = [ {\"indicies\":m.span(), \"match\":m.group() } for m in re.finditer(regular_expression,text)];\n",
        "matches            = []; [matches.append(m['match']) for m in results];"
      ],
      "execution_count": null,
      "outputs": []
    },
    {
      "cell_type": "code",
      "metadata": {
        "id": "JSC9kmRnTJhU",
        "outputId": "8bf3073e-fd68-43e0-958b-4349a868398b"
      },
      "source": [
        "print('\\n')\n",
        "print('--------------------------------------------------------')\n",
        "print('Results')\n",
        "print('--------------------------------------------------------')\n",
        "print('We found ' +  str(len(matches)) + ' matches...\\n')\n",
        "print(str(matches))\n",
        "print('--------------------------------------------------------')\n",
        "print('We found ' +  str(len(set(matches))) + ' distinct terms...\\n')\n",
        "print(class_utils.CountFrequency(matches))\n",
        "print('--------------------------------------------------------')\n",
        "print('\\n')"
      ],
      "execution_count": null,
      "outputs": [
        {
          "name": "stdout",
          "output_type": "stream",
          "text": [
            "\n",
            "\n",
            "--------------------------------------------------------\n",
            "Results\n",
            "--------------------------------------------------------\n",
            "We found 151 matches...\n",
            "\n",
            "['Philosophy', 'Philosophy', 'philosophy', 'philosophers', 'philosophy', 'philosophy', 'philosophy', 'philosopher', 'philosopher', 'philosopher', 'philosophers', 'philosophers', 'philosophers', 'philosophers', 'philosophers', 'philosophers', 'Philosophy', 'philosophy', 'philosophy', 'philosopher', 'philosophical', 'Philosophy', 'philosophy', 'philosophers', 'philosophy', 'philosophy', 'philosophical', 'philosopher', 'philosophical', 'philosophers', 'philosophers', 'philosophers', 'philosophers', 'philosophy', 'philosophical', 'philosopher', 'philosophy', 'philosopher', 'philosophy', 'philosopher', 'philosophy', 'philosophers', 'philosophers', 'philosophers', 'philosophers', 'philosopher', 'philosophers', 'philosophy', 'philosophy', 'philosophical', 'philosophers', 'philosophy', 'philosophy', 'philosophers', 'philosophy', 'philosophers', 'philosophers', 'philosophy', 'philosophy', 'philosophy', 'philosophy', 'philosophers', 'philosophy', 'philosophers', 'philosophies', 'philosophers', 'philosophical', 'philosopher', 'philosophers', 'philosophers', 'philosophers', 'philosophy', 'philosophical', 'philosophy', 'philosophers', 'philosophers', 'philosophy', 'philosophy', 'philosophy', 'philosophers', 'philosophers', 'philosophers', 'philosophers', 'Philosophical', 'philosophy', 'philosophy', 'philosophy', 'philosophers', 'philosophy', 'philosophy', 'philosophy', 'philosophy', 'philosophy', 'philosophical', 'philosophy', 'philosophy', 'Philosophy', 'philosophy', 'philosophy', 'philosophy', 'philosophy', 'philosophy', 'philosophy', 'philosophy', 'philosophy', 'philosophy', 'philosophy', 'philosophy', 'philosophy', 'philosophy', 'Philosophy', 'philosophy', 'philosopher', 'philosophy', 'philosophy', 'philosophy', 'philosophy', 'philosophy', 'philosophy', 'philosophy', 'philosophy', 'philosophy', 'philosophers', 'philosophy', 'philosophy', 'philosophers', 'philosophy', 'philosophical', 'philosophy', 'philosophy', 'philosophy', 'philosophy', 'philosophize', 'Philosophy', 'philosophy', 'philosophic', 'philosophic', 'Philosophic', 'Philosophic', 'philosophic', 'philosophies', 'philosophical', 'philosophic', 'philosophic', 'philosophic', 'philosophy', 'Philosophy', 'philosophy', 'philosophy', 'philosophers', 'Philosophy']\n",
            "--------------------------------------------------------\n",
            "We found 10 distinct terms...\n",
            "\n",
            "{'Philosophy': 9, 'philosophy': 72, 'philosophers': 37, 'philosopher': 11, 'philosophical': 10, 'philosophies': 2, 'Philosophical': 1, 'philosophize': 1, 'philosophic': 6, 'Philosophic': 2}\n",
            "--------------------------------------------------------\n",
            "\n",
            "\n"
          ]
        }
      ]
    },
    {
      "cell_type": "markdown",
      "metadata": {
        "id": "63GjaJraTJhU"
      },
      "source": [
        "<hr> \n",
        "\n",
        "## Learning Exercise 1: \n",
        "#### Worth 1/5 Points\n",
        "Now I'm curious how Bertrand used these various philosophical terms in his sentences, and how Bertrand's language, more generally, compares to [Friedrich Nietzsche](https://en.wikipedia.org/wiki/Friedrich_Nietzsche) and other philosophers. You're going to help me with that!"
      ]
    },
    {
      "cell_type": "markdown",
      "metadata": {
        "id": "rmtJfIeoTJhU"
      },
      "source": [
        "#### A. Download Data\n",
        "Use Python's `requests` library to collect Friedrich Nietzsche's book, [Beyond Good and Evil](http://www.gutenberg.org/cache/epub/4363/pg4363.txt) into Python. Collect one additional work of philosophy (of your choice) and import it as well."
      ]
    },
    {
      "cell_type": "code",
      "metadata": {
        "colab": {
          "base_uri": "https://localhost:8080/"
        },
        "id": "3AfdO9K2TJhV",
        "outputId": "3d3a1747-12af-4dd3-aa20-cf2201729b48"
      },
      "source": [
        "################################################################################\n",
        "website = 'https://www.gutenberg.org/cache/epub/4363/pg4363.txt'\n",
        "r = requests.get(website)\n",
        "print('\\n')\n",
        "print('--------------------------------------------------------')\n",
        "print('Server status code: ' + str(r.status_code))\n",
        "print('--------------------------------------------------------')\n",
        "print('Here is a 250 character sample of your text:')\n",
        "print('- - - - - - - - - - - - - - - - - - - - - - - - - - - - ')\n",
        "print(r.text[1500:1750])\n",
        "print('--------------------------------------------------------')\n",
        "print('\\n')\n",
        "################################################################################"
      ],
      "execution_count": 17,
      "outputs": [
        {
          "output_type": "stream",
          "name": "stdout",
          "text": [
            "\n",
            "\n",
            "--------------------------------------------------------\n",
            "Server status code: 200\n",
            "--------------------------------------------------------\n",
            "Here is a 250 character sample of your text:\n",
            "- - - - - - - - - - - - - - - - - - - - - - - - - - - - \n",
            "d these letters changed to \"ize,\" such as\r\n",
            "\"idealize.\" \"Sceptic\" was changed to \"skeptic.\"\r\n",
            "\r\n",
            "\r\n",
            "TABLE OF CONTENTS\r\n",
            "\r\n",
            "    PREFACE\r\n",
            "    BEYOND GOOD AND EVIL\r\n",
            "\r\n",
            "    CHAPTER I:    PREJUDICES OF PHILOSOPHERS\r\n",
            "    CHAPTER II:   THE FREE SPIRIT\r\n",
            "    CHAPTER\n",
            "--------------------------------------------------------\n",
            "\n",
            "\n"
          ]
        }
      ]
    },
    {
      "cell_type": "markdown",
      "metadata": {
        "id": "oV6huvPwTJhV"
      },
      "source": [
        "<span style=\"color:red\"> INSERT AN INTERPRETATION OF YOUR RESULTS HERE </span>"
      ]
    },
    {
      "cell_type": "markdown",
      "metadata": {
        "id": "ez6yyXzQTJhV"
      },
      "source": [
        "#### B. Basic Text Cleansing\n",
        "Use `re.sub` to do some basic text cleansing on books you downloaded. More specifically: \n",
        "\n",
        "1. replace the various forms of whitespace that appear (`\\n`,`\\r`,`\\t` etc.) with a single whitespace character. \n",
        "2. cast all text to lower case\n",
        "3. replace common abbreviations with their full form, for instance: `it's` with `it is`\n",
        "\n",
        "Note that item #3 does not have to be comprehensive, just do a couple common abbreviations to illustrate that you know how to do this."
      ]
    },
    {
      "cell_type": "code",
      "metadata": {
        "id": "wwCIbDm8TJhV"
      },
      "source": [
        "################################################################################\n",
        "# INSERT YOUR CODE HERE\n",
        "# DO NOT FORGET TO PRINT YOUR MEANINGFUL RESULTS TO THE SCREEN.\n",
        "################################################################################"
      ],
      "execution_count": null,
      "outputs": []
    },
    {
      "cell_type": "markdown",
      "metadata": {
        "id": "8ws4jenbTJhV"
      },
      "source": [
        "<span style=\"color:red\"> INSERT AN INTERPRETATION OF YOUR RESULTS HERE </span>"
      ]
    },
    {
      "cell_type": "markdown",
      "metadata": {
        "id": "Fp6NLUYrTJhW"
      },
      "source": [
        "#### C. Sentence Extractor\n",
        "Write a regular expression that will extract the complete sentences containing any matches of the following regex we wrote together earlier: `(P|p)hilo(?!nous)[a-z]+`. Apply this regular expression to \"Beyond Good and Evil\", \"The Problems of Philosophy\", and the work of philosophy you chose. Show a couple of example sentences from each work."
      ]
    },
    {
      "cell_type": "code",
      "metadata": {
        "colab": {
          "base_uri": "https://localhost:8080/"
        },
        "id": "a1xaUvsFTJhW",
        "outputId": "6e10bae7-582d-4919-e076-fe003ab89267"
      },
      "source": [
        "################################################################################\n",
        "regular_expression = '(P|p)hilo(?!nous)[a-z]+'\n",
        "results            = [ {\"indicies\":m.span(), \"match\":m.group() } for m in re.finditer(regular_expression,text)];\n",
        "matches            = []; [matches.append(m['match']) for m in results];\n",
        "print('\\n')\n",
        "print('--------------------------------------------------------')\n",
        "print('Results')\n",
        "print('--------------------------------------------------------')\n",
        "print('We found ' +  str(len(matches)) + ' matches...\\n')\n",
        "print(str(matches))\n",
        "print('--------------------------------------------------------')\n",
        "print('We found ' +  str(len(set(matches))) + ' distinct terms...\\n')\n",
        "print(CountFrequency(matches))\n",
        "print('--------------------------------------------------------')\n",
        "print('\\n')\n",
        "################################################################################"
      ],
      "execution_count": 19,
      "outputs": [
        {
          "output_type": "stream",
          "name": "stdout",
          "text": [
            "\n",
            "\n",
            "--------------------------------------------------------\n",
            "Results\n",
            "--------------------------------------------------------\n",
            "We found 151 matches...\n",
            "\n",
            "['Philosophy', 'Philosophy', 'philosophy', 'philosophers', 'philosophy', 'philosophy', 'philosophy', 'philosopher', 'philosopher', 'philosopher', 'philosophers', 'philosophers', 'philosophers', 'philosophers', 'philosophers', 'philosophers', 'Philosophy', 'philosophy', 'philosophy', 'philosopher', 'philosophical', 'Philosophy', 'philosophy', 'philosophers', 'philosophy', 'philosophy', 'philosophical', 'philosopher', 'philosophical', 'philosophers', 'philosophers', 'philosophers', 'philosophers', 'philosophy', 'philosophical', 'philosopher', 'philosophy', 'philosopher', 'philosophy', 'philosopher', 'philosophy', 'philosophers', 'philosophers', 'philosophers', 'philosophers', 'philosopher', 'philosophers', 'philosophy', 'philosophy', 'philosophical', 'philosophers', 'philosophy', 'philosophy', 'philosophers', 'philosophy', 'philosophers', 'philosophers', 'philosophy', 'philosophy', 'philosophy', 'philosophy', 'philosophers', 'philosophy', 'philosophers', 'philosophies', 'philosophers', 'philosophical', 'philosopher', 'philosophers', 'philosophers', 'philosophers', 'philosophy', 'philosophical', 'philosophy', 'philosophers', 'philosophers', 'philosophy', 'philosophy', 'philosophy', 'philosophers', 'philosophers', 'philosophers', 'philosophers', 'Philosophical', 'philosophy', 'philosophy', 'philosophy', 'philosophers', 'philosophy', 'philosophy', 'philosophy', 'philosophy', 'philosophy', 'philosophical', 'philosophy', 'philosophy', 'Philosophy', 'philosophy', 'philosophy', 'philosophy', 'philosophy', 'philosophy', 'philosophy', 'philosophy', 'philosophy', 'philosophy', 'philosophy', 'philosophy', 'philosophy', 'philosophy', 'Philosophy', 'philosophy', 'philosopher', 'philosophy', 'philosophy', 'philosophy', 'philosophy', 'philosophy', 'philosophy', 'philosophy', 'philosophy', 'philosophy', 'philosophers', 'philosophy', 'philosophy', 'philosophers', 'philosophy', 'philosophical', 'philosophy', 'philosophy', 'philosophy', 'philosophy', 'philosophize', 'Philosophy', 'philosophy', 'philosophic', 'philosophic', 'Philosophic', 'Philosophic', 'philosophic', 'philosophies', 'philosophical', 'philosophic', 'philosophic', 'philosophic', 'philosophy', 'Philosophy', 'philosophy', 'philosophy', 'philosophers', 'Philosophy']\n",
            "--------------------------------------------------------\n",
            "We found 10 distinct terms...\n",
            "\n",
            "{'Philosophy': 9, 'philosophy': 72, 'philosophers': 37, 'philosopher': 11, 'philosophical': 10, 'philosophies': 2, 'Philosophical': 1, 'philosophize': 1, 'philosophic': 6, 'Philosophic': 2}\n",
            "--------------------------------------------------------\n",
            "\n",
            "\n"
          ]
        }
      ]
    },
    {
      "cell_type": "markdown",
      "metadata": {
        "id": "Pb7ys6mcTJhW"
      },
      "source": [
        "<span style=\"color:red\"> INSERT AN INTERPRETATION OF YOUR RESULTS HERE </span>"
      ]
    },
    {
      "cell_type": "markdown",
      "metadata": {
        "id": "H14YSXV-TJhW"
      },
      "source": [
        "#### D. Sentence Tokenizer\n",
        "Write another regular expression that tokenizes the text in your collected sentences by splitting the sentences into a list of individual words. Tokenize the entire text of all three books using this regular expression. For each book, store your result as a list of lists and print the last word of the last sentence."
      ]
    },
    {
      "cell_type": "code",
      "metadata": {
        "id": "FGHpqhjxTJhW"
      },
      "source": [
        "################################################################################\n",
        "# INSERT YOUR CODE HERE\n",
        "# DO NOT FORGET TO PRINT YOUR RESULTS TO THE SCREEN.\n",
        "################################################################################"
      ],
      "execution_count": null,
      "outputs": []
    },
    {
      "cell_type": "markdown",
      "metadata": {
        "id": "GgYCXbrmTJhW"
      },
      "source": [
        "<span style=\"color:red\"> INSERT AN INTERPRETATION OF YOUR RESULTS HERE </span>"
      ]
    },
    {
      "cell_type": "markdown",
      "metadata": {
        "id": "klUbEaiBTJhX"
      },
      "source": [
        "#### E. Compare Works\n",
        "Use Python's `matplotlib` library, to compare the distribution of the most common words that show up in each book. Compare the distributions and comment on any important statistical similarities or differences between the distributions. Do the distributions of the word frequency follow Zipf's law? Ignoring common words (`the`,`and`,`in`, etc.) what are the top 10 words that each book used most frequently? Are there any words that showed up more frequently in one work than they did in another?"
      ]
    },
    {
      "cell_type": "code",
      "metadata": {
        "id": "43aBvR2gTJhX"
      },
      "source": [
        "################################################################################\n",
        "# INSERT YOUR CODE HERE\n",
        "# DO NOT FORGET TO PRINT YOUR MEANINGFUL RESULTS TO THE SCREEN.\n",
        "################################################################################"
      ],
      "execution_count": null,
      "outputs": []
    },
    {
      "cell_type": "markdown",
      "metadata": {
        "id": "OeQWldPeTJhX"
      },
      "source": [
        "<span style=\"color:red\"> INSERT AN INTERPRETATION OF YOUR RESULTS HERE </span>"
      ]
    },
    {
      "cell_type": "markdown",
      "metadata": {
        "id": "ZKrYenUuTJhX"
      },
      "source": [
        "<hr> \n",
        "\n",
        "# Part 2: Text normalization \n",
        "Text normalization is an essential preliminary step to any natural language processing pipeline. To begin, let's re-import `The Problems of Philosophy`"
      ]
    },
    {
      "cell_type": "code",
      "metadata": {
        "id": "FnPQjv0aTJhX"
      },
      "source": [
        "website  = 'http://www.gutenberg.org/cache/epub/5827/pg5827.txt'\n",
        "text     = requests.get(website).text"
      ],
      "execution_count": 12,
      "outputs": []
    },
    {
      "cell_type": "markdown",
      "metadata": {
        "id": "e9VUADe8TJhY"
      },
      "source": [
        "### Tokenization\n",
        "As you saw in `Learning Exercise 1`, tokenization of text can be performed through the use of Regular Expressions. Familiarity with Regular Expressions is an important part of any NLP apprentice's toolkit but fortunately, it's not the only (or even the best) tool that exists for text normalization tasks! Indeed, for basic text normalization and cleansing, Python has a number of functions that operate on strings directly - no libraries required! \n",
        "\n",
        "Let's begin this section of the tutorial by taking a look at some of these functions, starting with the `replace` function to remove the whitespace characters in our text data:"
      ]
    },
    {
      "cell_type": "code",
      "metadata": {
        "id": "Za0Rhw5ITJhY"
      },
      "source": [
        "#Replace \\r\\n with whitespace, then replace \\n with whitespace, then replace \\r with whitespace\n",
        "clean_text = text.replace('\\r\\n',' ').replace('\\n',' ').replace('\\r',' ')"
      ],
      "execution_count": 20,
      "outputs": []
    },
    {
      "cell_type": "code",
      "metadata": {
        "colab": {
          "base_uri": "https://localhost:8080/"
        },
        "id": "ROr8trd0TJhY",
        "outputId": "21c76b1f-7ce2-4ebb-b301-65f3c6c94e25"
      },
      "source": [
        "print('\\n')\n",
        "print('--------------------------------------------------------')\n",
        "print('Results')\n",
        "print('--------------------------------------------------------')\n",
        "print('Before:\\n' + text[1101:1227] + ' ...')\n",
        "print('--------------------------------------------------------')\n",
        "print('After:\\n' + clean_text[1056:1177] + ' ...')\n",
        "print('--------------------------------------------------------')\n",
        "print('\\n')"
      ],
      "execution_count": 21,
      "outputs": [
        {
          "output_type": "stream",
          "name": "stdout",
          "text": [
            "\n",
            "\n",
            "--------------------------------------------------------\n",
            "Results\n",
            "--------------------------------------------------------\n",
            "Before:\n",
            "\r\n",
            "\r\n",
            "I have derived valuable assistance from unpublished writings of G. E.\r\n",
            "Moore and J. M. Keynes: from the former, as regards ...\n",
            "--------------------------------------------------------\n",
            "After:\n",
            "I have derived valuable assistance from unpublished writings of G. E. Moore and J. M. Keynes: from the former, as regards ...\n",
            "--------------------------------------------------------\n",
            "\n",
            "\n"
          ]
        }
      ]
    },
    {
      "cell_type": "markdown",
      "metadata": {
        "id": "OMLYLH9mTJhY"
      },
      "source": [
        "That seems to have worked! Notice that `replace` is a method that is built into Python strings. That's the reason that we write `text.replace(...)` and not something like `replace(text,...)`.  \n",
        "\n",
        "Python has other many [other useful string manipulation methods](https://www.programiz.com/python-programming/methods/string), but for the rest of the basic pre-processing we'll be used in this tutorial, we'll only need `split`:"
      ]
    },
    {
      "cell_type": "code",
      "metadata": {
        "id": "mV3NdNKwTJhY"
      },
      "source": [
        "# Split the sentences when we see a '.' character\n",
        "clean_text = clean_text.split('.')\n",
        "\n",
        "# Split each sentence further - when there are no arguments provided to split, it defaults to whitespace (tabs, newlines, spaces, etc)\n",
        "textmat = []\n",
        "for c in clean_text:\n",
        "    textmat.append(c.split())    \n",
        "#re.split(r'\\w+|\\$[\\d\\.]+|\\S+',\"text\")"
      ],
      "execution_count": 22,
      "outputs": []
    },
    {
      "cell_type": "code",
      "metadata": {
        "colab": {
          "base_uri": "https://localhost:8080/"
        },
        "id": "5XtB_2SaTJhZ",
        "outputId": "f84d3cbf-c229-44db-ef1a-b7c6d8493ca1"
      },
      "source": [
        "# Printing the tenth sentence:\n",
        "print('--------------------------------------------------------')\n",
        "print('Results (showing sentence 10)')\n",
        "print('--------------------------------------------------------')\n",
        "print(textmat[10])\n",
        "print('--------------------------------------------------------')\n",
        "print('\\n')"
      ],
      "execution_count": 23,
      "outputs": [
        {
          "output_type": "stream",
          "name": "stdout",
          "text": [
            "--------------------------------------------------------\n",
            "Results (showing sentence 10)\n",
            "--------------------------------------------------------\n",
            "['I', 'have', 'also', 'profited', 'greatly', 'by', 'the', 'criticisms', 'and', 'suggestions', 'of', 'Professor', 'Gilbert', 'Murray']\n",
            "--------------------------------------------------------\n",
            "\n",
            "\n"
          ]
        }
      ]
    },
    {
      "cell_type": "markdown",
      "metadata": {
        "id": "OOuyHntnTJhZ"
      },
      "source": [
        "The pre-processing shown above is mostly for illustrative purposes. If we'd like to do anything serious, we'll need a more sophisticated approach to sentence segmentation and text tokenization. Fortunately, there are many existing tools in Python that assist with the Sentence segmentation and word tokenization. One of the most popular tools for this is the [Natural Langauge Toolkit](https://www.nltk.org/). Let's import the tool into python and explore some of it's functionality together:"
      ]
    },
    {
      "cell_type": "code",
      "metadata": {
        "colab": {
          "base_uri": "https://localhost:8080/"
        },
        "id": "Zf5mG8xCTJhZ",
        "outputId": "dccda6eb-4a17-4838-dd3c-6e8def500cfb"
      },
      "source": [
        "# Importing the NLTK Package\n",
        "import nltk\n",
        "\n",
        "# Importing the `punkt` data, used by the NLTK tokenizer\n",
        "import ssl\n",
        "try:\n",
        "    _create_unverified_https_context = ssl._create_unverified_context\n",
        "except AttributeError:\n",
        "    pass\n",
        "else:\n",
        "    ssl._create_default_https_context = _create_unverified_https_context\n",
        "\n",
        "nltk.download('punkt')"
      ],
      "execution_count": 24,
      "outputs": [
        {
          "output_type": "stream",
          "name": "stdout",
          "text": [
            "[nltk_data] Downloading package punkt to /root/nltk_data...\n",
            "[nltk_data]   Package punkt is already up-to-date!\n"
          ]
        },
        {
          "output_type": "execute_result",
          "data": {
            "text/plain": [
              "True"
            ]
          },
          "metadata": {},
          "execution_count": 24
        }
      ]
    },
    {
      "cell_type": "markdown",
      "metadata": {
        "id": "UiUnbL-HTJhZ"
      },
      "source": [
        "Now, let's test out the NLTK tokenizer with a tricky sentence"
      ]
    },
    {
      "cell_type": "code",
      "metadata": {
        "colab": {
          "base_uri": "https://localhost:8080/"
        },
        "id": "dDchMl3xTJha",
        "outputId": "ce62d610-cde2-4b3f-cb77-5c5c523b56bf"
      },
      "source": [
        "sentences = \"\"\"At eight o'clock on Thursday morning Arthur didn't feel very good. He drove to the store in New York at 100 m.p.h.! He wanted to obtain some Kool-Aid! It cost $10.89.\"\"\"\n",
        "tokens    = nltk.word_tokenize(sentences)\n",
        "print('\\n')\n",
        "print(tokens)\n",
        "print('\\n')"
      ],
      "execution_count": 25,
      "outputs": [
        {
          "output_type": "stream",
          "name": "stdout",
          "text": [
            "\n",
            "\n",
            "['At', 'eight', \"o'clock\", 'on', 'Thursday', 'morning', 'Arthur', 'did', \"n't\", 'feel', 'very', 'good', '.', 'He', 'drove', 'to', 'the', 'store', 'in', 'New', 'York', 'at', '100', 'm.p.h.', '!', 'He', 'wanted', 'to', 'obtain', 'some', 'Kool-Aid', '!', 'It', 'cost', '$', '10.89', '.']\n",
            "\n",
            "\n"
          ]
        }
      ]
    },
    {
      "cell_type": "markdown",
      "metadata": {
        "id": "jN8Bnsz9TJha"
      },
      "source": [
        "As you can see, the tokenization is pretty good for something out-of-the box, but it could be better! In an ideal world, we would want the Tokenizer to understand that `New York` is actually a single token, not two. Furthermore, depending on our use case, we may want the `$` sign to be attached to the `10.89` token. So, if you wanted to use the NLTK tool out-of-the-box, you may need to do some additional pre-processing. Let's try the sentence splitting functionality next:"
      ]
    },
    {
      "cell_type": "code",
      "metadata": {
        "colab": {
          "base_uri": "https://localhost:8080/"
        },
        "id": "3xT82LW1TJhd",
        "outputId": "1cc175a4-61d8-4a2e-ae91-2a9dc976662d"
      },
      "source": [
        "result = nltk.sent_tokenize(sentences)\n",
        "print('\\n' + str(result) + '\\n')"
      ],
      "execution_count": 26,
      "outputs": [
        {
          "output_type": "stream",
          "name": "stdout",
          "text": [
            "\n",
            "[\"At eight o'clock on Thursday morning Arthur didn't feel very good.\", 'He drove to the store in New York at 100 m.p.h.!', 'He wanted to obtain some Kool-Aid!', 'It cost $10.89.']\n",
            "\n"
          ]
        }
      ]
    },
    {
      "cell_type": "markdown",
      "metadata": {
        "id": "vyMYLbqSTJhd"
      },
      "source": [
        "This one also works rather nicely. Indeed, NLTK does a lot to make Natural Language Processing accessible. In fact, NLTK has several other tools that we will cover in subsequent lectures, but one of the tools that is not yet available in NLTK (at the time this tutorial was written) is Byte Pair Encoding, the tokenization approaches with some relation to many of today's NLP powerhouses (Yes, I'm talking about [BERT](https://en.wikipedia.org/wiki/BERT_(language_model))). I think I'm going to need some help with that..."
      ]
    },
    {
      "cell_type": "markdown",
      "metadata": {
        "id": "eNHILs-5TJhe"
      },
      "source": [
        "<hr> \n",
        "\n",
        "## Learning Exercise 2:\n",
        "#### Worth 1/5 Points\n",
        "\n",
        "For this learning exercise, you will implement the Byte Pair Encoding (BPE) algorithm and use it to Tokenize `The Problems of Philosophy`. If you can't recall how the BPE algorithm works, you can refer back to the lectures, or see Section 2.4.3 of [Daniel Jurafsky & James H. Martin's NLP book](https://web.stanford.edu/~jurafsky/slp3/2.pdf). "
      ]
    },
    {
      "cell_type": "markdown",
      "metadata": {
        "id": "K78TEUWPTJhe"
      },
      "source": [
        "#### A. Download Books to Create a Larger Corpus\n",
        "Given that the BPE algorithm is data-driven, we'll first need to gather a training data corpus. For your training data, you will choose at least 10 books from [Project Gutenburg](https://www.gutenberg.org/): \n",
        "* Choose at least 5 books that were authored by Bertrand Russell, not including `The Problems of Philosophy`\n",
        "* Choose at least 5 books that were authored by Friedrich Nietzsche\n",
        "\n",
        "You'll be using these training data later with BPE to identify the token `vocabularies`, which you will then use to tokenize `The problems of Philosophy`. "
      ]
    },
    {
      "cell_type": "code",
      "metadata": {
        "id": "5z16b0vSTJhe"
      },
      "source": [
        "################################################################################\n",
        "# INSERT YOUR CODE HERE\n",
        "# DO NOT FORGET TO PRINT YOUR MEANINGFUL RESULTS TO THE SCREEN.\n",
        "################################################################################"
      ],
      "execution_count": 30,
      "outputs": []
    },
    {
      "cell_type": "markdown",
      "metadata": {
        "id": "LNuDLik3TJhe"
      },
      "source": [
        "<span style=\"color:red\"> INSERT AN INTERPRETATION OF YOUR RESULTS HERE </span>"
      ]
    },
    {
      "cell_type": "markdown",
      "metadata": {
        "id": "vseyoAunTJhe"
      },
      "source": [
        "#### B. Implement Byte Pair Encoding\n",
        "Implement the Byte Pair Encoding algorithm by filling out the function skeleton below. The function should take three inputs:\n",
        "\n",
        "* `text` : an unprocessed text file that we wish to tokenize using BPE\n",
        "* `k`    : the number of merges to perform\n",
        "* `training_corpus` : a python list of complete texts we wish to use for training. The formatting should look like: `['blah blah blah ...', 'the rain in spain ...', 'do pickles count as vegetables? ...']`\n",
        "\n",
        "The function should output a tokenized version of the `text` based on the `k` vocabulary units learned by BPE using the `training_corpus`."
      ]
    },
    {
      "cell_type": "code",
      "metadata": {
        "id": "MXYYSOytTJhf"
      },
      "source": [
        "def BytePairEncoding(text, k, training_corpus):\n",
        "    tokenized_text = []\n",
        "    vocabulary = []\n",
        "    # INSERT YOUR CODE HERE\n",
        "    return vocabulary, tokenized_text"
      ],
      "execution_count": 28,
      "outputs": []
    },
    {
      "cell_type": "markdown",
      "metadata": {
        "id": "yNvKHfOCTJhf"
      },
      "source": [
        "#### C. Evaluate Byte Pair Encoding\n",
        "Because BPE is data-driven, we might expect there to be some differences in the tokenization based on the training corpus, as well as your choice of `k`! To evaluate BPE, you will now experiment with how the tokenization performs for various settings of `k`, and when using different training . More specifically, you will compare the `vocabulary` and `tokenized_text` of Bertrand Russell's `The Problem's of Philosophy` for:\n",
        "\n",
        "* values of `k` ranging from 1,000 to 10,000 in steps of 1,000 and\n",
        "    *  `training_corpus` sets that include: (1) only Bertrand Russell books, (2) only Friedrich Nietzsche books, and (3) all books from groups (1) and (2).\n",
        "\n",
        "For the above conditions, please generate one or more plots using Python's `matplotlib` that compare:\n",
        "* The total number of unique tokens in the tokenized text\n",
        "* The median size of tokens in the tokenized text\n",
        "* The % overlap in the number of distinct unique tokens generated by BPE and NLTK's word tokenizer.\n",
        "\n",
        "Compare the plots, and note any interesting observations about the results."
      ]
    },
    {
      "cell_type": "code",
      "metadata": {
        "id": "odRrncZwTJhf"
      },
      "source": [
        "################################################################################\n",
        "# INSERT YOUR CODE HERE\n",
        "# DO NOT FORGET TO PRINT YOUR MEANINGFUL RESULTS TO THE SCREEN.\n",
        "################################################################################"
      ],
      "execution_count": 29,
      "outputs": []
    },
    {
      "cell_type": "markdown",
      "metadata": {
        "id": "4d1MiY9XTJhf"
      },
      "source": [
        "<span style=\"color:red\"> INSERT AN INTERPRETATION OF YOUR RESULTS HERE </span>"
      ]
    },
    {
      "cell_type": "markdown",
      "metadata": {
        "id": "NzUu_KglTJhf"
      },
      "source": [
        "<hr> \n",
        "\n",
        "# Part 3: Edit Distance\n",
        "#### Character Level Distance\n",
        "As we discussed in the lectures, Edit Distance is a way to measure the similarity between different sequences of text. Our goal in this section will be to compare and contrast some of the different measures of edit distance that exist so that you'll have a better intuition for how to use them, depending on the problem you're trying to solve. To start, let's import the [`textdistance` library](https://github.com/life4/textdistance), written by [Gram Voronov](https://orsinium.dev/)."
      ]
    },
    {
      "cell_type": "code",
      "metadata": {
        "id": "ghpfBHkLTJhg"
      },
      "source": [
        "import textdistance"
      ],
      "execution_count": 31,
      "outputs": []
    },
    {
      "cell_type": "markdown",
      "metadata": {
        "id": "DuwNJpVaTJhg"
      },
      "source": [
        "The `textdistance` library contains python implementations of about 30 edit distance algorithms. Let's begin by trying out the edit distance tool we discussed in class, the [Levenshtein Distance](https://en.wikipedia.org/wiki/Levenshtein_distance): "
      ]
    },
    {
      "cell_type": "code",
      "metadata": {
        "colab": {
          "base_uri": "https://localhost:8080/"
        },
        "id": "NgTxbaDUTJhg",
        "outputId": "9ee53070-4553-48ef-b246-91cc97d49140"
      },
      "source": [
        "def GetDistance(string1, string2, method):\n",
        "    # Compute the distance and print the results\n",
        "    distance = eval(\"textdistance.\" + method + \"(string1, string2)\")\n",
        "    print('\"' + string1 + '\" and \"' + string2 + '\" is: ' + str(distance))  \n",
        "    \n",
        "print('\\n')\n",
        "print('levenshtein' + \" distance:\")\n",
        "print('--------------------------------------------------------')\n",
        "GetDistance('test','test'      ,'levenshtein')\n",
        "GetDistance('test','texts'     ,'levenshtein')\n",
        "GetDistance('test','   test'   ,'levenshtein')\n",
        "print('--------------------------------------------------------')\n",
        "print('\\n')\n",
        "    "
      ],
      "execution_count": 32,
      "outputs": [
        {
          "output_type": "stream",
          "name": "stdout",
          "text": [
            "\n",
            "\n",
            "levenshtein distance:\n",
            "--------------------------------------------------------\n",
            "\"test\" and \"test\" is: 0\n",
            "\"test\" and \"texts\" is: 2\n",
            "\"test\" and \"   test\" is: 3\n",
            "--------------------------------------------------------\n",
            "\n",
            "\n"
          ]
        }
      ]
    },
    {
      "cell_type": "markdown",
      "metadata": {
        "id": "q3AHKxjQTJhg"
      },
      "source": [
        "Recall from the lecture that the Levenshtein distance counts the total number of `insertion`, `deletion`, and `substitution` actions that a required to transform one string into another and the cost of each edit is always 1. So, as shown in the above example, moving from `\"test\"` to `\"test\"` requires no edits, and therefore has a distance of 0, moving from `\"test\"` to `\"texts\"` requires 1 substitution and one addition and therefore has a distance of 2, moving from `\"test\"` to `\"   test\"`   has a distance of 3 becasue we must remove the  three whitespace characters to the left of the word `\"   test\"` to create a match.\n",
        "\n",
        "The above example is intentionally meant to highlight that the assumptions of the edit distance measures can have consequence for their estimates; Indeed, depending on the problem we are trying to solve, we may want `\"   test\"` and `\"test\"` to be closer than the distance between `\"test\"` and `\"texts\"`. On that note, let's explore the performance of three other edit distance measures: the [Hamming Distance](https://en.wikipedia.org/wiki/Hamming_distance), [Needleman Wunsch](https://en.wikipedia.org/wiki/Needleman%E2%80%93Wunsch_algorithm), and [Smith Waterman](https://en.wikipedia.org/wiki/Smith%E2%80%93Waterman_algorithm):"
      ]
    },
    {
      "cell_type": "code",
      "metadata": {
        "id": "vDYsY6mFwJaD"
      },
      "source": [
        "from google.colab import drive\n",
        "drive.mount('/content/drive')"
      ],
      "execution_count": null,
      "outputs": []
    },
    {
      "cell_type": "code",
      "metadata": {
        "colab": {
          "base_uri": "https://localhost:8080/"
        },
        "id": "noy5EY02TJhh",
        "outputId": "857c87f9-d7c0-4cce-d905-4432d6356078"
      },
      "source": [
        "distance_measures = ['hamming',  'levenshtein', 'needleman_wunsch', 'smith_waterman']\n",
        "\n",
        "for method in distance_measures:\n",
        "    print(method + \" distance:\")\n",
        "    print('--------------------------------------------------------')\n",
        "    GetDistance('test'      ,'test'      ,method)\n",
        "    GetDistance('test'      ,'texts'     ,method)\n",
        "    GetDistance('test'      ,'   test'   ,method)\n",
        "    print('--------------------------------------------------------')\n",
        "    print('\\n')\n",
        "    \n"
      ],
      "execution_count": 33,
      "outputs": [
        {
          "output_type": "stream",
          "name": "stdout",
          "text": [
            "hamming distance:\n",
            "--------------------------------------------------------\n",
            "\"test\" and \"test\" is: 0\n",
            "\"test\" and \"texts\" is: 2\n",
            "\"test\" and \"   test\" is: 6\n",
            "--------------------------------------------------------\n",
            "\n",
            "\n",
            "levenshtein distance:\n",
            "--------------------------------------------------------\n",
            "\"test\" and \"test\" is: 0\n",
            "\"test\" and \"texts\" is: 2\n",
            "\"test\" and \"   test\" is: 3\n",
            "--------------------------------------------------------\n",
            "\n",
            "\n",
            "needleman_wunsch distance:\n",
            "--------------------------------------------------------\n",
            "\"test\" and \"test\" is: 4.0\n",
            "\"test\" and \"texts\" is: 2.0\n",
            "\"test\" and \"   test\" is: 1.0\n",
            "--------------------------------------------------------\n",
            "\n",
            "\n",
            "smith_waterman distance:\n",
            "--------------------------------------------------------\n",
            "\"test\" and \"test\" is: 4\n",
            "\"test\" and \"texts\" is: 2.0\n",
            "\"test\" and \"   test\" is: 4.0\n",
            "--------------------------------------------------------\n",
            "\n",
            "\n"
          ]
        }
      ]
    },
    {
      "cell_type": "markdown",
      "metadata": {
        "id": "T3QEDWPtTJhh"
      },
      "source": [
        "Let's step through these results together. First, we notice that the Hamming distance between `\"test\"` and `\"   test\"` is 6, which is even higher than what we observed for the Levenshtein distance! To understand why, we can refer to the definition of the [Hamming distance](https://en.wikipedia.org/wiki/Hamming_distance): \"The Hamming distance between two strings is the number of positions at which the corresponding symbols are different. In other words, it measures the minimum number of substitutions required to change one string into the other.\" Given that there are so many white space characters, and that Hamming is only concerned with substitutions, it makes sense that the hamming distance would be higher than the levenshtein distance!\n",
        "\n",
        "At first glance, the results of the [Needleman Wunch](https://en.wikipedia.org/wiki/Needleman%E2%80%93Wunsch_algorithm) and [Smith Waterman](https://en.wikipedia.org/wiki/Smith%E2%80%93Waterman_algorithm) methods seem suprising. Why is the distance between \"test\" and \"test\" 4? Shouldn't it be 0? Once again, the answer here resides in understanding the definition of the \"distance\" metric. Both of these algorithms are actually providing an **alignment score** between the two sequences. \n",
        "\n",
        "Of course, we may also notice that the scores between the two alignment methods are quite different; the reason for this difference has to do with what these alignment scores are exactly measuring: the Smith–Waterman algorithm is designed to find the *segments* in two sequences that have maximal similarities while the Needleman–Wunsch algorithm is designed for alignment between two complete sequences. Let's explore these two methods to make this distinction a little more clear:"
      ]
    },
    {
      "cell_type": "code",
      "metadata": {
        "colab": {
          "base_uri": "https://localhost:8080/"
        },
        "id": "arud5sb6TJhh",
        "outputId": "68a34c64-1e24-460c-8c8a-7c65c7afca1a"
      },
      "source": [
        "distance_measures = ['needleman_wunsch', 'smith_waterman']\n",
        "for method in distance_measures:\n",
        "    print(method + \" distance:\")\n",
        "    print('--------------------------------------------------------')\n",
        "    GetDistance('test','test',method)\n",
        "    GetDistance('test',' test',method)\n",
        "    GetDistance('test','  test',method)\n",
        "    GetDistance('test','   test',method)\n",
        "    GetDistance('test','    test',method)\n",
        "    GetDistance('test','     test',method)\n",
        "    GetDistance('test','      test',method)\n",
        "    GetDistance('test','       test',method)\n",
        "    print('\\n')\n",
        "   "
      ],
      "execution_count": 34,
      "outputs": [
        {
          "output_type": "stream",
          "name": "stdout",
          "text": [
            "needleman_wunsch distance:\n",
            "--------------------------------------------------------\n",
            "\"test\" and \"test\" is: 4.0\n",
            "\"test\" and \" test\" is: 3.0\n",
            "\"test\" and \"  test\" is: 2.0\n",
            "\"test\" and \"   test\" is: 1.0\n",
            "\"test\" and \"    test\" is: 0.0\n",
            "\"test\" and \"     test\" is: -1.0\n",
            "\"test\" and \"      test\" is: -2.0\n",
            "\"test\" and \"       test\" is: -3.0\n",
            "\n",
            "\n",
            "smith_waterman distance:\n",
            "--------------------------------------------------------\n",
            "\"test\" and \"test\" is: 4\n",
            "\"test\" and \" test\" is: 4.0\n",
            "\"test\" and \"  test\" is: 4.0\n",
            "\"test\" and \"   test\" is: 4.0\n",
            "\"test\" and \"    test\" is: 4.0\n",
            "\"test\" and \"     test\" is: 4.0\n",
            "\"test\" and \"      test\" is: 4.0\n",
            "\"test\" and \"       test\" is: 4.0\n",
            "\n",
            "\n"
          ]
        }
      ]
    },
    {
      "cell_type": "markdown",
      "metadata": {
        "id": "J0V4l9RATJhh"
      },
      "source": [
        "As we can see above, the Needleman Wunsh method grows more negative as the absolute difference between the two strings increases. In this sense, the Needleman-Wunsch algorithm is similar to the Levenshtein distance algorithm; the difference being that Levenshtein uses a static penalty cost to any mismatched letters while the Needleman-Wunsch algorithm gives weights to matches and mismatches differently. The Smith Waterman method distance remains 4 because the substring `test` overlaps in both strings regardless of the whitespace."
      ]
    },
    {
      "cell_type": "markdown",
      "metadata": {
        "id": "k30PaPxjTJhi"
      },
      "source": [
        "#### Token-Level distance\n",
        "All of our edit distance work up until now has focused on character-level distances and alignment but depending on the problem we want to solve, we may care more about distance at the token level. Fortunately, there are several distance metrics that measure similarity between strings at the token level. One such measure is the [Jaccard Index](https://en.wikipedia.org/wiki/Jaccard_index), which is the size of the intersection of the token sets divided by the size of the union of the sample sets. Here's an example:"
      ]
    },
    {
      "cell_type": "code",
      "metadata": {
        "colab": {
          "base_uri": "https://localhost:8080/"
        },
        "id": "qdNBVer3TJhi",
        "outputId": "2a267996-19c0-4a1e-89d7-334f45213b5d"
      },
      "source": [
        "distance_measures = ['jaccard']\n",
        "text1 = \"The fish was delish, and it made quite a dish\"\n",
        "text2 = \"The fish on the dish was made quite delicious!\"\n",
        "text3 = \"Joe eats crabs, crabs do not taste good.\"\n",
        "for method in distance_measures:\n",
        "    print(method + \" distance:\")\n",
        "    print('--------------------------------------------------------')\n",
        "    GetDistance(text1      ,text2      ,method)\n",
        "    GetDistance(text1      ,text3      ,method)\n",
        "    print('--------------------------------------------------------')\n",
        "    print('\\n')"
      ],
      "execution_count": 35,
      "outputs": [
        {
          "output_type": "stream",
          "name": "stdout",
          "text": [
            "jaccard distance:\n",
            "--------------------------------------------------------\n",
            "\"The fish was delish, and it made quite a dish\" and \"The fish on the dish was made quite delicious!\" is: 0.7843137254901961\n",
            "\"The fish was delish, and it made quite a dish\" and \"Joe eats crabs, crabs do not taste good.\" is: 0.39344262295081966\n",
            "--------------------------------------------------------\n",
            "\n",
            "\n"
          ]
        }
      ]
    },
    {
      "cell_type": "markdown",
      "metadata": {
        "id": "5f4G-PtsTJhi"
      },
      "source": [
        "We won't be covering all the edit distance functions of the NLP community in great detail, but hopefully this is enough to whet your appetite, and allow you to dig into some of the methods on your own."
      ]
    },
    {
      "cell_type": "markdown",
      "metadata": {
        "id": "z3PmA0QlTJhi"
      },
      "source": [
        "<hr> \n",
        "\n",
        "## Learning Exercise 3:\n",
        "#### Worth 1/5 Points\n",
        "#### A. Towards a More Nuanced Edit Distance Cost Metric\n",
        "As we've eluded to here and in the lectures, one deficiency of the Levenshtein cost metric is the assumption that substitutions, edit, and deletion costs are all equal. Your goal for this learning exercise is to modify the cost structure of the `LevenshteinDistanceDP` method shown below so that is assigns 1/2 of the normal penalty for any edits that involve whitespace characters (FYI, the implementation shown below was originally written by [Ahmed Gad](https://blog.paperspace.com/author/ahmed/), [here](https://blog.paperspace.com/implementing-levenshtein-distance-word-autocomplete-autocorrect/#:~:text=The%20Levenshtein%20distance%20is%20a,representing%20the%20distance%20between%20them.&text=In%20this%20tutorial%20the%20Levenshtein,using%20the%20dynamic%20programming%20approach.)). "
      ]
    },
    {
      "cell_type": "code",
      "metadata": {
        "colab": {
          "base_uri": "https://localhost:8080/"
        },
        "id": "YPePm4iPTJhi",
        "outputId": "aa21ba80-b9f3-43e5-83ab-58d6ea35c2cb"
      },
      "source": [
        "################################################################################\n",
        "# INSERT YOUR CODE HERE\n",
        "# DO NOT FORGET TO PRINT YOUR MEANINGFUL RESULTS TO THE SCREEN.\n",
        "################################################################################\n",
        "\n",
        "import numpy as np\n",
        "def levenshteinDistanceDP(token1, token2):\n",
        "    distances = np.zeros((len(token1) + 1, len(token2) + 1))\n",
        "\n",
        "    for t1 in range(len(token1) + 1):\n",
        "        distances[t1][0] = t1\n",
        "\n",
        "    for t2 in range(len(token2) + 1):\n",
        "        distances[0][t2] = t2\n",
        "        \n",
        "    a = 0\n",
        "    b = 0\n",
        "    c = 0\n",
        "    \n",
        "    for t1 in range(1, len(token1) + 1):\n",
        "        for t2 in range(1, len(token2) + 1):\n",
        "            if (token1[t1-1] == token2[t2-1]):\n",
        "                distances[t1][t2] = distances[t1 - 1][t2 - 1]\n",
        "            else:\n",
        "                a = distances[t1][t2 - 1]\n",
        "                b = distances[t1 - 1][t2]\n",
        "                c = distances[t1 - 1][t2 - 1]\n",
        "                \n",
        "                if (a <= b and a <= c):\n",
        "                    distances[t1][t2] = a + 1\n",
        "                elif (b <= a and b <= c):\n",
        "                    distances[t1][t2] = b + 1\n",
        "                else:\n",
        "                    distances[t1][t2] = c + 1\n",
        "\n",
        "    return distances[len(token1)][len(token2)]\n",
        "\n",
        "#\n",
        "\n",
        "levenshteinDistanceDP('test  ', 'test')"
      ],
      "execution_count": 36,
      "outputs": [
        {
          "output_type": "execute_result",
          "data": {
            "text/plain": [
              "2.0"
            ]
          },
          "metadata": {},
          "execution_count": 36
        }
      ]
    },
    {
      "cell_type": "markdown",
      "metadata": {
        "id": "HNSfCzFBTJhj"
      },
      "source": [
        "<span style=\"color:red\"> INSERT AN INTERPRETATION OF YOUR RESULTS HERE </span>"
      ]
    },
    {
      "cell_type": "markdown",
      "metadata": {
        "id": "5wzegpMzTJhj"
      },
      "source": [
        "<hr> \n",
        "\n",
        "# Part 4: N-Gram language Models\n",
        "In this section, we'll be covering n-gram language models which, as the name implies, are language models that use n-grams!"
      ]
    },
    {
      "cell_type": "markdown",
      "metadata": {
        "id": "R3_dP3_NTJhj"
      },
      "source": [
        "#### N-grams\n",
        "An n-gram is a contiguous sequence of n items from a given sample of text or speech. Let's begin this section by defining a function that generates n-grams from our text data using the `nltk` library and using it to extract n-grams for n ranging from 1-5."
      ]
    },
    {
      "cell_type": "code",
      "metadata": {
        "colab": {
          "base_uri": "https://localhost:8080/"
        },
        "id": "JkXDRuElTJhj",
        "outputId": "99989964-6087-424e-8c28-be75c05a9d1b"
      },
      "source": [
        "import nltk\n",
        "from nltk.util import ngrams\n",
        "\n",
        "# an ngram extractor \n",
        "def extract_word_ngrams(data, num):\n",
        "    n_grams = ngrams(nltk.word_tokenize(data), num)\n",
        "    return [ ' '.join(grams) for grams in n_grams]\n",
        "\n",
        "# some example text\n",
        "data = \"\"\"a fish keeps for a day; a fish keeps well if you put it in a cold place. \n",
        "          a fish keeps best if you put it in the fridge. If you’ll be having fish, \n",
        "          have it with an apple because one apple a day keeps the doctor away! \n",
        "          You know they also say that a day keeps coming.\"\"\"\n",
        "\n",
        "# printing the first 5 tokens after gramification\n",
        "print(\"\\nWord-Level:\")\n",
        "print(\"1-gram: \", extract_word_ngrams(data, 1)[0:5])\n",
        "print(\"2-gram: \", extract_word_ngrams(data, 2)[0:5])\n",
        "print(\"3-gram: \", extract_word_ngrams(data, 3)[0:5])\n",
        "print(\"4-gram: \", extract_word_ngrams(data, 4)[0:5])\n",
        "print(\"\\n\")"
      ],
      "execution_count": 37,
      "outputs": [
        {
          "output_type": "stream",
          "name": "stdout",
          "text": [
            "\n",
            "Word-Level:\n",
            "1-gram:  ['a', 'fish', 'keeps', 'for', 'a']\n",
            "2-gram:  ['a fish', 'fish keeps', 'keeps for', 'for a', 'a day']\n",
            "3-gram:  ['a fish keeps', 'fish keeps for', 'keeps for a', 'for a day', 'a day ;']\n",
            "4-gram:  ['a fish keeps for', 'fish keeps for a', 'keeps for a day', 'for a day ;', 'a day ; a']\n",
            "\n",
            "\n"
          ]
        }
      ]
    },
    {
      "cell_type": "markdown",
      "metadata": {
        "id": "H1wAFWEmTJhk"
      },
      "source": [
        "Notice that the n-gram extractor I use above leverages the `nltk` tokenizer that we discussed earlier in this assignment. Also, that sample data I showed above should look familiar... As we discussed in the lectures, n-grams can be generated at whatever level of resolution we need for the task at hand; we also don't need any fancy libraries to generate them! If we were interested in extracting n-grams at the character level for instance, we could do that in one line:"
      ]
    },
    {
      "cell_type": "code",
      "metadata": {
        "colab": {
          "base_uri": "https://localhost:8080/"
        },
        "id": "PduMniIJTJhk",
        "outputId": "9dfe1e81-3dcd-41e7-ba9e-4767dcd8aa04"
      },
      "source": [
        "# some example text\n",
        "data = \"\"\"a fish keeps for a day; a fish keeps well if you put it in a cold place. \n",
        "          a fish keeps best if you put it in the fridge. If you’ll be having fish, \n",
        "          have it with an apple because one apple a day keeps the doctor away! \n",
        "          You know they also say that a day keeps coming.\"\"\"\n",
        "\n",
        "def extract_char_ngrams(data, num):\n",
        "    return [data[i:i+num] for i in range(len(data))][:(-num-1)]\n",
        "\n",
        "# printing the first 5 tokens after gramification\n",
        "print(\"\\nCharacter-Level:\")\n",
        "print(\"1-gram: \", extract_char_ngrams(data, 1)[0:5])\n",
        "print(\"2-gram: \", extract_char_ngrams(data, 2)[0:5])\n",
        "print(\"3-gram: \", extract_char_ngrams(data, 3)[0:5])\n",
        "print(\"4-gram: \", extract_char_ngrams(data, 4)[0:5])\n",
        "print(\"\\n\")"
      ],
      "execution_count": 38,
      "outputs": [
        {
          "output_type": "stream",
          "name": "stdout",
          "text": [
            "\n",
            "Character-Level:\n",
            "1-gram:  ['a', ' ', 'f', 'i', 's']\n",
            "2-gram:  ['a ', ' f', 'fi', 'is', 'sh']\n",
            "3-gram:  ['a f', ' fi', 'fis', 'ish', 'sh ']\n",
            "4-gram:  ['a fi', ' fis', 'fish', 'ish ', 'sh k']\n",
            "\n",
            "\n"
          ]
        }
      ]
    },
    {
      "cell_type": "markdown",
      "metadata": {
        "id": "AeRDir9iTJhk"
      },
      "source": [
        "#### Skip-Grams\n",
        "While n-grams bring together contiguous sequences of words, skip-grams include grams that skip over certain terms!"
      ]
    },
    {
      "cell_type": "code",
      "metadata": {
        "id": "dsJzTgrhTJhk",
        "outputId": "eba652b1-c2f8-4b32-a694-e92f64bbfc89"
      },
      "source": [
        "# some example text\n",
        "data = \"\"\"a fish keeps for a day; a fish keeps well if you put it in a cold place. \n",
        "          a fish keeps best if you put it in the fridge. If you’ll be having fish, \n",
        "          have it with an apple because one apple a day keeps the doctor away! \n",
        "          You know they also say that a day keeps coming.\"\"\"\n",
        "\n",
        "# Creating skip-grams using the NLTK library\n",
        "skip_gram = list(nltk.skipgrams(nltk.word_tokenize(data),n=2,k=2))\n",
        "skip_gram[0:5]"
      ],
      "execution_count": null,
      "outputs": [
        {
          "data": {
            "text/plain": [
              "[('a', 'fish'),\n",
              " ('a', 'keeps'),\n",
              " ('a', 'for'),\n",
              " ('fish', 'keeps'),\n",
              " ('fish', 'for')]"
            ]
          },
          "execution_count": 105,
          "metadata": {},
          "output_type": "execute_result"
        }
      ]
    },
    {
      "cell_type": "markdown",
      "metadata": {
        "id": "4sc-Rh4rTJhl"
      },
      "source": [
        "#### Language Models \n",
        "A language model refers to any method that assign probabilities to strings. Let's try to develop a more concrete understanding of language models by building a simple one together. More specifically, let's build a model that tries to predict the next word in a sentence, given the last word we saw. One approach to accomplish this is to simply count, for each unique word, what words tend to follow it. To do that, let's start by using the `extract_word_ngrams` tool we showed earlier, and collect all the unique words in the corpus:"
      ]
    },
    {
      "cell_type": "code",
      "metadata": {
        "colab": {
          "base_uri": "https://localhost:8080/"
        },
        "id": "o-UxCreJTJhl",
        "outputId": "4b92a8b3-d4bb-4f7c-9a25-87395942c432"
      },
      "source": [
        "# some example text\n",
        "data = \"\"\"a fish keeps for a day; a fish keeps well if you put it in a cold place. \n",
        "          a fish keeps best if you put it in the fridge. If you’ll be having fish, \n",
        "          have it with an apple because one apple a day keeps the doctor away! \n",
        "          You know they also say that a day keeps coming.\"\"\"\n",
        "\n",
        "unigrams = extract_word_ngrams(data,1)\n",
        "\n",
        "# get the unique words:\n",
        "vocabulary = list(set(unigrams))\n",
        "print('---------------------------------------')\n",
        "print('Vocabulary (n = ' + str(len(vocabulary)) +')')\n",
        "print('---------------------------------------')\n",
        "print(str(vocabulary) + '\\n')"
      ],
      "execution_count": 39,
      "outputs": [
        {
          "output_type": "stream",
          "name": "stdout",
          "text": [
            "---------------------------------------\n",
            "Vocabulary (n = 40)\n",
            "---------------------------------------\n",
            "['for', 'one', 'that', 'You', '’', 'put', 'keeps', 'fish', 'with', 'be', '.', 'place', ',', 'doctor', 'll', 'also', 'coming', 'if', 'If', 'well', 'in', 'a', ';', 'the', 'having', 'cold', 'apple', 'say', 'best', 'you', 'an', 'know', 'they', 'have', 'day', 'it', 'because', 'fridge', '!', 'away']\n",
            "\n"
          ]
        }
      ]
    },
    {
      "cell_type": "markdown",
      "metadata": {
        "id": "FAMQrAyJTJhl"
      },
      "source": [
        "Now that we have a list of the words, lets initialize a `JSON` object called `counts` that will keep track of the next word, given the current word."
      ]
    },
    {
      "cell_type": "code",
      "metadata": {
        "id": "CR3a2VeKTJhl"
      },
      "source": [
        "counts = {}\n",
        "for given_word in vocabulary:\n",
        "    counts[given_word] = {}\n",
        "    for next_word in vocabulary:\n",
        "        counts[given_word][next_word] = 0"
      ],
      "execution_count": 40,
      "outputs": []
    },
    {
      "cell_type": "markdown",
      "metadata": {
        "id": "M5_FlEQ-TJhl"
      },
      "source": [
        "The `counts` object is a dictionary of dictionaries. It's convenient to store the count data this way because we can see the counts of the next word, given the current word, by simply providing the count object the current word. Let's take a look at the count of all possible next words, given that the current word is `fish`:"
      ]
    },
    {
      "cell_type": "code",
      "metadata": {
        "colab": {
          "base_uri": "https://localhost:8080/"
        },
        "id": "zyAWh5JwTJhl",
        "outputId": "a5120364-056b-4948-8e0d-56778d36f575"
      },
      "source": [
        "print('------------------------------------------------------')\n",
        "print('Count of next words, given that current word is \"fish\"')\n",
        "print('------------------------------------------------------')\n",
        "print(counts['fish'])\n",
        "print('\\n')"
      ],
      "execution_count": 41,
      "outputs": [
        {
          "output_type": "stream",
          "name": "stdout",
          "text": [
            "------------------------------------------------------\n",
            "Count of next words, given that current word is \"fish\"\n",
            "------------------------------------------------------\n",
            "{'for': 0, 'one': 0, 'that': 0, 'You': 0, '’': 0, 'put': 0, 'keeps': 0, 'fish': 0, 'with': 0, 'be': 0, '.': 0, 'place': 0, ',': 0, 'doctor': 0, 'll': 0, 'also': 0, 'coming': 0, 'if': 0, 'If': 0, 'well': 0, 'in': 0, 'a': 0, ';': 0, 'the': 0, 'having': 0, 'cold': 0, 'apple': 0, 'say': 0, 'best': 0, 'you': 0, 'an': 0, 'know': 0, 'they': 0, 'have': 0, 'day': 0, 'it': 0, 'because': 0, 'fridge': 0, '!': 0, 'away': 0}\n",
            "\n",
            "\n"
          ]
        }
      ]
    },
    {
      "cell_type": "markdown",
      "metadata": {
        "id": "ZH8R2ZSQTJhm"
      },
      "source": [
        "As we can see, the counts are currently empty; that's because we've only just initialized this object and haven't actually counted anything yet! Let's do that now."
      ]
    },
    {
      "cell_type": "code",
      "metadata": {
        "id": "hrH4rkWTTJhm"
      },
      "source": [
        "for i in range(len(unigrams)-1):\n",
        "    counts[unigrams[i]][unigrams[i+1]] += 1"
      ],
      "execution_count": 42,
      "outputs": []
    },
    {
      "cell_type": "markdown",
      "metadata": {
        "id": "ttG1A--HTJhm"
      },
      "source": [
        "Now let's take a look at that `fish` count again!"
      ]
    },
    {
      "cell_type": "code",
      "metadata": {
        "colab": {
          "base_uri": "https://localhost:8080/"
        },
        "id": "Wmuk0vHTTJhm",
        "outputId": "6f3b99f2-7861-4d56-b75f-4439b6630472"
      },
      "source": [
        "print('------------------------------------------------------')\n",
        "print('Count of next words, given that current word is \"fish\"')\n",
        "print('------------------------------------------------------')\n",
        "print(counts['fish'])\n",
        "\n",
        "print('\\n')\n",
        "print('------------------------------------------------------')\n",
        "print('Count of next word \"keeps\", given that current word is \"fish\"')\n",
        "print('------------------------------------------------------')\n",
        "print(counts['fish']['keeps'])\n",
        "\n",
        "print('\\n')"
      ],
      "execution_count": 43,
      "outputs": [
        {
          "output_type": "stream",
          "name": "stdout",
          "text": [
            "------------------------------------------------------\n",
            "Count of next words, given that current word is \"fish\"\n",
            "------------------------------------------------------\n",
            "{'for': 0, 'one': 0, 'that': 0, 'You': 0, '’': 0, 'put': 0, 'keeps': 3, 'fish': 0, 'with': 0, 'be': 0, '.': 0, 'place': 0, ',': 1, 'doctor': 0, 'll': 0, 'also': 0, 'coming': 0, 'if': 0, 'If': 0, 'well': 0, 'in': 0, 'a': 0, ';': 0, 'the': 0, 'having': 0, 'cold': 0, 'apple': 0, 'say': 0, 'best': 0, 'you': 0, 'an': 0, 'know': 0, 'they': 0, 'have': 0, 'day': 0, 'it': 0, 'because': 0, 'fridge': 0, '!': 0, 'away': 0}\n",
            "\n",
            "\n",
            "------------------------------------------------------\n",
            "Count of next word \"keeps\", given that current word is \"fish\"\n",
            "------------------------------------------------------\n",
            "3\n",
            "\n",
            "\n"
          ]
        }
      ]
    },
    {
      "cell_type": "markdown",
      "metadata": {
        "id": "LkPjEqVnTJhn"
      },
      "source": [
        "Now that we have a count of the words, we can convert these to probabilities by simply dividing by the total incidence of next words, for a given current word:"
      ]
    },
    {
      "cell_type": "code",
      "metadata": {
        "id": "7HH_dkQBTJhn"
      },
      "source": [
        "# initialize the probabilites JSON object\n",
        "probs = {}\n",
        "for given_word in vocabulary:\n",
        "    probs[given_word] = {}\n",
        "    for next_word in vocabulary:\n",
        "        probs[given_word][next_word] = 0\n",
        "\n",
        "# convert the counts to probabilites\n",
        "for key, value in counts.items():\n",
        "    denominator = 0\n",
        "    for key2, value2 in counts[key].items():\n",
        "        denominator += value2\n",
        "\n",
        "    for key2, value2 in counts[key].items():\n",
        "        probs[key][key2] = value2 / denominator\n",
        "    "
      ],
      "execution_count": 44,
      "outputs": []
    },
    {
      "cell_type": "markdown",
      "metadata": {
        "id": "Y70f54PUTJhn"
      },
      "source": [
        "Now, let's check the probability of the next word being `keeps`, given that the current word is `fish` "
      ]
    },
    {
      "cell_type": "code",
      "metadata": {
        "colab": {
          "base_uri": "https://localhost:8080/"
        },
        "id": "Qga1IZrNTJhn",
        "outputId": "32a3aaf7-5b7e-4cc5-82e8-e4f92a6c8c10"
      },
      "source": [
        "print('------------------------------------------------------')\n",
        "print('The probability of the next word being keeps,') \n",
        "print('given that the current word is fish:')\n",
        "print('------------------------------------------------------')\n",
        "print(str(100*probs['fish']['keeps']) + '%')\n",
        "print('\\n')"
      ],
      "execution_count": 45,
      "outputs": [
        {
          "output_type": "stream",
          "name": "stdout",
          "text": [
            "------------------------------------------------------\n",
            "The probability of the next word being keeps,\n",
            "given that the current word is fish:\n",
            "------------------------------------------------------\n",
            "75.0%\n",
            "\n",
            "\n"
          ]
        }
      ]
    },
    {
      "cell_type": "markdown",
      "metadata": {
        "id": "zpXMziXSTJho"
      },
      "source": [
        "And there you have it! You have built your first data-driven language model. Congratulations! Now let's get to work doing some fun things with the language model, like simulating new sentences. Let's do that by choosing a word, and then selecting the next word in accordance to the probability given by our language model:"
      ]
    },
    {
      "cell_type": "code",
      "metadata": {
        "colab": {
          "base_uri": "https://localhost:8080/"
        },
        "id": "3zIjnIKaTJho",
        "outputId": "9b737891-7c5c-4acb-9aef-eb2c20bc9586"
      },
      "source": [
        "import numpy as np\n",
        "\n",
        "def sample_next_gram_from_language_model(probs, given_token):\n",
        "    distribution            = list(probs[given_token].values())\n",
        "    sample_from_multinomial = np.random.multinomial(1,distribution)\n",
        "    sample_index            = np.where(sample_from_multinomial==1)[0][0]\n",
        "    word_keys               = list(probs[given_token].keys())\n",
        "    next_word               = word_keys[sample_index]\n",
        "    return(next_word)\n",
        "    \n",
        "given_token = \"a\"\n",
        "next_token  = sample_next_gram_from_language_model(probs,given_token)\n",
        "\n",
        "print(' Given the token :  ' + given_token)\n",
        "print(' The next token is :  ' + next_token)\n",
        "print('\\n')\n"
      ],
      "execution_count": 46,
      "outputs": [
        {
          "output_type": "stream",
          "name": "stdout",
          "text": [
            " Given the token :  a\n",
            " The next token is :  day\n",
            "\n",
            "\n"
          ]
        }
      ]
    },
    {
      "cell_type": "markdown",
      "metadata": {
        "id": "k_SgYcwGTJho"
      },
      "source": [
        "Now that we have a language model built, we can do all sorts of useful things. Including running our model to generate new sentences we've never seen before:"
      ]
    },
    {
      "cell_type": "code",
      "metadata": {
        "colab": {
          "base_uri": "https://localhost:8080/"
        },
        "id": "CZkBoqM2TJho",
        "outputId": "6ff87991-89e1-4d99-fac1-da30862174ce"
      },
      "source": [
        "def create_new_sentence(length, seed_token):\n",
        "    tokens = [seed_token]\n",
        "    for i in range(length):\n",
        "        tokens.append(sample_next_gram_from_language_model(probs,tokens[-1]))  \n",
        "    return tokens\n",
        "      \n",
        "print('---------------------------------------')\n",
        "print(' '.join(create_new_sentence(10, 'a')))\n",
        "print(' '.join(create_new_sentence(10, 'a')))\n",
        "print(' '.join(create_new_sentence(10, 'a')))"
      ],
      "execution_count": 47,
      "outputs": [
        {
          "output_type": "stream",
          "name": "stdout",
          "text": [
            "---------------------------------------\n",
            "a fish keeps best if you put it in a fish\n",
            "a day keeps best if you put it in a fish\n",
            "a day keeps well if you ’ ll be having fish\n"
          ]
        }
      ]
    },
    {
      "cell_type": "markdown",
      "metadata": {
        "id": "xbsS__d1TJho"
      },
      "source": [
        "<hr> \n",
        "\n",
        "## Learning Exercise 4:\n",
        "#### Worth 2/5 Points\n",
        "Now that you have built your first language model, let's turn our attention back to the philosophers. For this final learning exercise, you will be building a tri-gram `Nietzsche language model`, and a tri-gram `Russel Language Model` using the 5 books from each of the philosophers you collected from Project Gutenburg earlier. \n",
        "\n",
        "Generate a conversation between your philosophers models by seeding one of the models with a tri-gram and allow it to run until it generates a terminating character (a '.', '?' or '!'). Then, have the other model generate a response by providing the ending tri-gram of the the first model as the seed tri-gram for the other model. Iterate like this for 15 sentences and print the text.\n",
        "\n",
        "**Note:** You probably learned from the earlier components of this assignment that Nietzsche and Russel have slightly different writing styles (yes, that was an understatement). For this reason, there are likely to be instances where the ending tri-gram from your Nietzsche model does not show up in the Russel language model and vice-versa. Use Laplace smoothing to handle this problem.   "
      ]
    },
    {
      "cell_type": "code",
      "metadata": {
        "id": "BbaoutWkTJho"
      },
      "source": [
        "################################################################################\n",
        "import requests\n",
        "import numpy as np\n",
        "import nltk\n",
        "from nltk.util import ngrams\n",
        "# Nietzsche\n",
        "website = 'http://www.gutenberg.org/cache/epub/4363/pg4363.txt'\n",
        "nietz    = requests.get(website).text[:2000]\n",
        "\n",
        "website = 'http://www.gutenberg.org/cache/epub/5827/pg5827.txt'\n",
        "russel = requests.get(website).text[:2000]\n",
        "\n",
        "# Tri-Gram Russel Language Model \n",
        "import nltk\n",
        "from nltk.util import ngrams\n",
        "\n",
        "# an ngram extractor \n",
        "def extract_word_ngrams(data, num):\n",
        "    n_grams = ngrams(nltk.word_tokenize(data), num)\n",
        "    return [ ' '.join(grams) for grams in n_grams]\n",
        "################################################################################"
      ],
      "execution_count": 6,
      "outputs": []
    },
    {
      "cell_type": "code",
      "metadata": {
        "id": "S6zpLULc4Xoo"
      },
      "source": [
        "# Counts the frequency\n",
        "def CountFrequency(my_list): \n",
        "  # Creating an empty dictionary  \n",
        "    freq = {} \n",
        "    for item in my_list: \n",
        "        if (item in freq): \n",
        "            freq[item] += 1\n",
        "        else: \n",
        "            freq[item] = 1\n",
        "    return freq"
      ],
      "execution_count": 15,
      "outputs": []
    },
    {
      "cell_type": "code",
      "metadata": {
        "id": "qSf-QqWT4YM0"
      },
      "source": [
        "# Calculate probability of next words with Laplace smoothing\n",
        "def language_modeling(text,size_of_grams):\n",
        "    #grams = extract_word_ngrams(nietz, 3)\n",
        "    grams = extract_word_ngrams(text,size_of_grams)\n",
        "    vocabulary = list(set(grams))\n",
        "    counts = {}\n",
        "    for given_word in vocabulary:\n",
        "        counts[given_word] = {}\n",
        "        for next_word in vocabulary:\n",
        "            counts[given_word][next_word] = 0\n",
        "    for i in range(len(grams)-1):\n",
        "        counts[grams[i]][grams[i+1]] += 1\n",
        "    \n",
        "    # initialize the probabilites JSON object\n",
        "    probs = {}\n",
        "    for given_word in vocabulary:\n",
        "        probs[given_word] = {}\n",
        "        for next_word in vocabulary:\n",
        "            probs[given_word][next_word] = 0\n",
        "\n",
        "    # convert the counts to probabilites\n",
        "    for key, value in counts.items():\n",
        "        denominator = 0\n",
        "        for key2, value2 in counts[key].items():\n",
        "            denominator += value2\n",
        "\n",
        "        for key2, value2 in counts[key].items():\n",
        "            # Laplace smoothing\n",
        "            probs[key][key2] = (value2 + 1) / (denominator+len(vocabulary))\n",
        "    return probs"
      ],
      "execution_count": 4,
      "outputs": []
    },
    {
      "cell_type": "code",
      "metadata": {
        "colab": {
          "base_uri": "https://localhost:8080/"
        },
        "id": "4Au_6Je74b7o",
        "outputId": "03ac481f-8996-424e-98fc-c94e8b5ce1e3"
      },
      "source": [
        "import nltk\n",
        "nltk.download('punkt')\n",
        "nietz_probs=language_modeling(nietz, 3)"
      ],
      "execution_count": 16,
      "outputs": [
        {
          "output_type": "stream",
          "name": "stdout",
          "text": [
            "[nltk_data] Downloading package punkt to /root/nltk_data...\n",
            "[nltk_data]   Package punkt is already up-to-date!\n"
          ]
        }
      ]
    },
    {
      "cell_type": "code",
      "metadata": {
        "id": "FwykXv7F4dcG"
      },
      "source": [
        "russel_probs=language_modeling(russel, 3)"
      ],
      "execution_count": 9,
      "outputs": []
    },
    {
      "cell_type": "code",
      "metadata": {
        "id": "tTRHoC6A4fwU"
      },
      "source": [
        "def sample_next_gram_from_language_model(probs, given_token):\n",
        "    distribution            = list(probs[given_token].values())\n",
        "    sample_from_multinomial = np.random.multinomial(1,distribution)\n",
        "    sample_index            = np.where(sample_from_multinomial==1)[0][0]\n",
        "    word_keys               = list(probs[given_token].keys())\n",
        "    next_word               = word_keys[sample_index]\n",
        "    return(next_word)"
      ],
      "execution_count": 10,
      "outputs": []
    },
    {
      "cell_type": "code",
      "metadata": {
        "id": "jyxjK1lF4htm"
      },
      "source": [
        "def create_new_sentence(stop,seed_token,probs):\n",
        "    tokens = [seed_token]\n",
        "    while [0 for i in ['.', '?','!'] if i in ' '.join(tokens)[-1]] != [0]:\n",
        "        tokens.append(sample_next_gram_from_language_model(probs,tokens[-1]))  \n",
        "    return tokens"
      ],
      "execution_count": 11,
      "outputs": []
    },
    {
      "cell_type": "code",
      "metadata": {
        "id": "fP_UpCVW4jEj"
      },
      "source": [
        "given_token = 'You may copy'"
      ],
      "execution_count": 12,
      "outputs": []
    },
    {
      "cell_type": "code",
      "metadata": {
        "id": "Iin5kmRe4ky4"
      },
      "source": [
        "' '.join(create_new_sentence(['.', '?','!'], given_token,nietz_probs))"
      ],
      "execution_count": null,
      "outputs": []
    },
    {
      "cell_type": "code",
      "metadata": {
        "colab": {
          "base_uri": "https://localhost:8080/",
          "height": 108
        },
        "id": "R36Ej4fr4nax",
        "outputId": "437378c4-496a-4b8d-8f40-5cd7937e77b5"
      },
      "source": [
        "' '.join(create_new_sentence(['.', '?','!'], given_token,russel_probs))"
      ],
      "execution_count": 14,
      "outputs": [
        {
          "output_type": "execute_result",
          "data": {
            "application/vnd.google.colaboratory.intrinsic+json": {
              "type": "string"
            },
            "text/plain": [
              "'You may copy AND REALITY Is with almost no from the latter in the way of the Project asked . When as we do negative criticism seemed I thought it with this eBook volume , and , which at might not seem is so certain in the main no cost and are treated very : English *** have confined myself suggestions of Professor induction . I APPEARANCE AND REALITY criticisms and suggestions and with almost constructive , since June , 2004 The Problems of if at all from the former reasonable man could induction . I Project Gutenberg License probability and induction it under the THIS PROJECT GUTENBERG from the former and from the well launched on , by Bertrand , since merely not carelessly and questions , not volume , and one of the regard to which the use of Release Date : confident answer , eBook or online THIS PROJECT GUTENBERG confident answer , which I thought philosophy -- for When we have main to those : Bertrand Russell : English *** so certain that have derived valuable : from the philosophers are treated the obstacles in those problems of regards the relations Date : May I have derived such ultimate questions E. Moore and G. E. Moore writings of G.'"
            ]
          },
          "metadata": {},
          "execution_count": 14
        }
      ]
    },
    {
      "cell_type": "markdown",
      "metadata": {
        "id": "SBc5tCWGTJhp"
      },
      "source": [
        "<span style=\"color:red\"> INSERT AN INTERPRETATION OF YOUR RESULTS HERE </span>"
      ]
    },
    {
      "cell_type": "markdown",
      "metadata": {
        "id": "KN5of1xUTJhp"
      },
      "source": [
        "<h1><span style=\"color:red\"> Self Assessment </span></h1>\n",
        "Please provide an assessment of how successfully you accomplished the learning exercises in this assignment according to the instruction provided; do not assign yourself points for effort. This self assessment will be used as a starting point when I grade your assignments. Please note that if you over-estimate your grade on a given learning exercise, you will face a 50% penalty on the total points granted for that exercise. If you underestimate your grade, there will be no penalty.\n",
        "\n",
        "* Learning Exercise 1: \n",
        "    * <span style=\"color:red\">X</span>/1 points\n",
        "* Learning Exercise 2: \n",
        "    * <span style=\"color:red\">X</span>/1 points\n",
        "* Learning Exercise 3:\n",
        "    * <span style=\"color:red\">X</span>/1 points\n",
        "* Learning Exercise 4:\n",
        "    * <span style=\"color:red\">X</span>/2 points\n",
        "\n",
        "#### Total Grade: \n",
        "<span style=\"color:red\">X</span>/5"
      ]
    },
    {
      "cell_type": "code",
      "metadata": {
        "id": "RV_p1YHeTJhp"
      },
      "source": [
        ""
      ],
      "execution_count": null,
      "outputs": []
    }
  ]
}